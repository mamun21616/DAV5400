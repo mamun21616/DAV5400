{
 "cells": [
  {
   "cell_type": "markdown",
   "id": "e16b72fd",
   "metadata": {
    "id": "e16b72fd"
   },
   "source": [
    "# Part 1 : Working with HTML and JSON"
   ]
  },
  {
   "cell_type": "markdown",
   "id": "9786371b",
   "metadata": {},
   "source": [
    "In this exercise \n",
    "a. I have created html file manually in my local machine which contains three albums from three different musicians, five songs from each album and album releasing year. \n",
    "\n",
    "b. I have also then created json file manually with same data in html file.\n",
    "\n",
    "c. After creating these two files I have uploaded to my github repository. \n",
    "\n",
    "d. Then working in Jupyter notebook and loading these two files with python pandas library by using html reader and json reader function.\n",
    "\n",
    "e. Then we can see the printed result as dataframe. \n",
    "\n",
    "f. Finally after having dataframe will compare as they are identical or not?\n"
   ]
  },
  {
   "cell_type": "markdown",
   "id": "fb806e0b",
   "metadata": {},
   "source": [
    "__Importing panda library to make the dataframe from the json and html files__\n"
   ]
  },
  {
   "cell_type": "code",
   "execution_count": 1,
   "id": "d2d6ad42",
   "metadata": {
    "ExecuteTime": {
     "end_time": "2023-11-10T05:00:03.634600Z",
     "start_time": "2023-11-10T05:00:03.031393Z"
    },
    "id": "d2d6ad42"
   },
   "outputs": [],
   "source": [
    "# import panda library to load the data\n",
    "import pandas as pd"
   ]
  },
  {
   "cell_type": "code",
   "execution_count": 2,
   "id": "4fb0e0f8",
   "metadata": {
    "ExecuteTime": {
     "end_time": "2023-11-10T05:00:03.864227Z",
     "start_time": "2023-11-10T05:00:03.637619Z"
    },
    "colab": {
     "base_uri": "https://localhost:8080/",
     "height": 143
    },
    "id": "4fb0e0f8",
    "outputId": "7d5d56d8-ebbd-466c-e6ea-c942e906b2a9"
   },
   "outputs": [
    {
     "data": {
      "text/html": [
       "<div>\n",
       "<style scoped>\n",
       "    .dataframe tbody tr th:only-of-type {\n",
       "        vertical-align: middle;\n",
       "    }\n",
       "\n",
       "    .dataframe tbody tr th {\n",
       "        vertical-align: top;\n",
       "    }\n",
       "\n",
       "    .dataframe thead th {\n",
       "        text-align: right;\n",
       "    }\n",
       "</style>\n",
       "<table border=\"1\" class=\"dataframe\">\n",
       "  <thead>\n",
       "    <tr style=\"text-align: right;\">\n",
       "      <th></th>\n",
       "      <th>Album Title</th>\n",
       "      <th>Artist</th>\n",
       "      <th>Year</th>\n",
       "      <th>Tracks</th>\n",
       "    </tr>\n",
       "  </thead>\n",
       "  <tbody>\n",
       "    <tr>\n",
       "      <th>0</th>\n",
       "      <td>Abbey Road</td>\n",
       "      <td>The Beatles</td>\n",
       "      <td>1969</td>\n",
       "      <td>Come Together, Something, Maxwell's Silver Ham...</td>\n",
       "    </tr>\n",
       "    <tr>\n",
       "      <th>1</th>\n",
       "      <td>Thriller</td>\n",
       "      <td>Michael Jackson</td>\n",
       "      <td>1982</td>\n",
       "      <td>Wanna Be Startin' Somethin', Baby Be Mine, The...</td>\n",
       "    </tr>\n",
       "    <tr>\n",
       "      <th>2</th>\n",
       "      <td>Back in Black</td>\n",
       "      <td>AC/DC</td>\n",
       "      <td>1980</td>\n",
       "      <td>Hells Bells, Shoot to Thrill, What Do You Do f...</td>\n",
       "    </tr>\n",
       "  </tbody>\n",
       "</table>\n",
       "</div>"
      ],
      "text/plain": [
       "     Album Title           Artist  Year  \\\n",
       "0     Abbey Road      The Beatles  1969   \n",
       "1       Thriller  Michael Jackson  1982   \n",
       "2  Back in Black            AC/DC  1980   \n",
       "\n",
       "                                              Tracks  \n",
       "0  Come Together, Something, Maxwell's Silver Ham...  \n",
       "1  Wanna Be Startin' Somethin', Baby Be Mine, The...  \n",
       "2  Hells Bells, Shoot to Thrill, What Do You Do f...  "
      ]
     },
     "execution_count": 2,
     "metadata": {},
     "output_type": "execute_result"
    }
   ],
   "source": [
    "# Load data from HTML file into a Pandas DataFrame from github\n",
    "html_df = pd.read_html(\"https://raw.githubusercontent.com/mamun21616/DAV5400/main/albums.html\")[0]\n",
    "html_df"
   ]
  },
  {
   "cell_type": "markdown",
   "id": "7cd405fd",
   "metadata": {},
   "source": [
    "From read_html method we have found a dataframe of album title, artist, year and tracks(songs) as column name and have 3 rows. we can try to get some column values like the following way. "
   ]
  },
  {
   "cell_type": "code",
   "execution_count": 3,
   "id": "3ba49f11",
   "metadata": {
    "ExecuteTime": {
     "end_time": "2023-11-10T05:00:03.873683Z",
     "start_time": "2023-11-10T05:00:03.866484Z"
    }
   },
   "outputs": [
    {
     "data": {
      "text/plain": [
       "0        The Beatles\n",
       "1    Michael Jackson\n",
       "2              AC/DC\n",
       "Name: Artist, dtype: object"
      ]
     },
     "execution_count": 3,
     "metadata": {},
     "output_type": "execute_result"
    }
   ],
   "source": [
    "# view the artist name of album\n",
    "html_df.Artist"
   ]
  },
  {
   "cell_type": "code",
   "execution_count": 4,
   "id": "406b25fa",
   "metadata": {
    "ExecuteTime": {
     "end_time": "2023-11-10T05:00:03.883851Z",
     "start_time": "2023-11-10T05:00:03.875691Z"
    }
   },
   "outputs": [
    {
     "data": {
      "text/plain": [
       "0    Come Together, Something, Maxwell's Silver Ham...\n",
       "1    Wanna Be Startin' Somethin', Baby Be Mine, The...\n",
       "2    Hells Bells, Shoot to Thrill, What Do You Do f...\n",
       "Name: Tracks, dtype: object"
      ]
     },
     "execution_count": 4,
     "metadata": {},
     "output_type": "execute_result"
    }
   ],
   "source": [
    "# Show the songs from Tracks column\n",
    "html_df.Tracks"
   ]
  },
  {
   "cell_type": "code",
   "execution_count": 5,
   "id": "20245bdc",
   "metadata": {
    "ExecuteTime": {
     "end_time": "2023-11-10T05:00:03.946841Z",
     "start_time": "2023-11-10T05:00:03.885861Z"
    },
    "colab": {
     "base_uri": "https://localhost:8080/",
     "height": 143
    },
    "id": "20245bdc",
    "outputId": "a96a3aae-af89-4076-c5a1-9562b1a44d03"
   },
   "outputs": [
    {
     "data": {
      "text/html": [
       "<div>\n",
       "<style scoped>\n",
       "    .dataframe tbody tr th:only-of-type {\n",
       "        vertical-align: middle;\n",
       "    }\n",
       "\n",
       "    .dataframe tbody tr th {\n",
       "        vertical-align: top;\n",
       "    }\n",
       "\n",
       "    .dataframe thead th {\n",
       "        text-align: right;\n",
       "    }\n",
       "</style>\n",
       "<table border=\"1\" class=\"dataframe\">\n",
       "  <thead>\n",
       "    <tr style=\"text-align: right;\">\n",
       "      <th></th>\n",
       "      <th>albums</th>\n",
       "    </tr>\n",
       "  </thead>\n",
       "  <tbody>\n",
       "    <tr>\n",
       "      <th>0</th>\n",
       "      <td>{'Album Title': 'Abbey Road', 'Artist': 'The B...</td>\n",
       "    </tr>\n",
       "    <tr>\n",
       "      <th>1</th>\n",
       "      <td>{'Album Title': 'Thriller', 'Artist': 'Michael...</td>\n",
       "    </tr>\n",
       "    <tr>\n",
       "      <th>2</th>\n",
       "      <td>{'Album Title': 'Back in Black', 'Artist': 'AC...</td>\n",
       "    </tr>\n",
       "  </tbody>\n",
       "</table>\n",
       "</div>"
      ],
      "text/plain": [
       "                                              albums\n",
       "0  {'Album Title': 'Abbey Road', 'Artist': 'The B...\n",
       "1  {'Album Title': 'Thriller', 'Artist': 'Michael...\n",
       "2  {'Album Title': 'Back in Black', 'Artist': 'AC..."
      ]
     },
     "execution_count": 5,
     "metadata": {},
     "output_type": "execute_result"
    }
   ],
   "source": [
    "# Load data from JSON file into a Pandas DataFrame from github\n",
    "json_df = pd.read_json(\"https://raw.githubusercontent.com/mamun21616/DAV5400/main/albums.json\")\n",
    "json_df"
   ]
  },
  {
   "cell_type": "markdown",
   "id": "bc663796",
   "metadata": {},
   "source": [
    "After loading albums.json file with pd.read_json method, a dataframe is created where only one column name albums and 3 rows. These rows are in dictionary format where specifies album title, artist, year, songs. We can get the key value from the albums column."
   ]
  },
  {
   "cell_type": "code",
   "execution_count": 6,
   "id": "e16491a8",
   "metadata": {
    "ExecuteTime": {
     "end_time": "2023-11-10T05:00:03.954145Z",
     "start_time": "2023-11-10T05:00:03.947849Z"
    }
   },
   "outputs": [
    {
     "data": {
      "text/plain": [
       "0       Abbey Road\n",
       "1         Thriller\n",
       "2    Back in Black\n",
       "Name: albums, dtype: object"
      ]
     },
     "execution_count": 6,
     "metadata": {},
     "output_type": "execute_result"
    }
   ],
   "source": [
    "# Extract 'Album Title' from the dictionaries in the 'albums' column\n",
    "json_df['albums'].apply(lambda x: x['Album Title'])"
   ]
  },
  {
   "cell_type": "code",
   "execution_count": 7,
   "id": "76951bf2",
   "metadata": {
    "ExecuteTime": {
     "end_time": "2023-11-10T05:00:03.961246Z",
     "start_time": "2023-11-10T05:00:03.955152Z"
    }
   },
   "outputs": [
    {
     "data": {
      "text/plain": [
       "0    [Come Together, Something, Maxwell's Silver Ha...\n",
       "1    [Wanna Be Startin' Somethin', Baby Be Mine, Th...\n",
       "2    [Hells Bells, Shoot to Thrill, What Do You Do ...\n",
       "Name: albums, dtype: object"
      ]
     },
     "execution_count": 7,
     "metadata": {},
     "output_type": "execute_result"
    }
   ],
   "source": [
    "# Extract 'songs' from the dictionaries in the 'albums' column\n",
    "json_df['albums'].apply(lambda x: x['Tracks'])"
   ]
  },
  {
   "cell_type": "markdown",
   "id": "6536e6d6",
   "metadata": {},
   "source": [
    "__Checking the two dataframes are identical or not using equals method__"
   ]
  },
  {
   "cell_type": "code",
   "execution_count": 8,
   "id": "d66f2cf6",
   "metadata": {
    "ExecuteTime": {
     "end_time": "2023-11-10T05:00:03.967950Z",
     "start_time": "2023-11-10T05:00:03.962255Z"
    },
    "colab": {
     "base_uri": "https://localhost:8080/"
    },
    "id": "c268e148",
    "outputId": "2b2e6353-0d44-4bb5-e226-358b1ef15dd7"
   },
   "outputs": [
    {
     "name": "stdout",
     "output_type": "stream",
     "text": [
      "Are the two DataFrames identical? False\n"
     ]
    }
   ],
   "source": [
    "# Check if the two DataFrames are identical\n",
    "identical = html_df.equals(json_df)\n",
    "print(\"Are the two DataFrames identical?\", identical)"
   ]
  },
  {
   "cell_type": "markdown",
   "id": "1888a91f",
   "metadata": {},
   "source": [
    "NO, the dataframes are not identical, they are different in structure."
   ]
  },
  {
   "cell_type": "markdown",
   "id": "a28abca6",
   "metadata": {},
   "source": [
    "# Part 2 : Scraping the Katz School’s “Staff” Web Page\n",
    "\n",
    "To complete this web scraping part have to follow some steps. I have followed here multiple steps.\n",
    "- Collected the data from the [website](https://www.yu.edu/katz/staff)\n",
    "- Used beautiful soup library to parse the web data to make dataframe about katz staff which containing columns like name, title, phone, email and ofiice of staffs.\n"
   ]
  },
  {
   "cell_type": "markdown",
   "id": "6e62287b",
   "metadata": {},
   "source": [
    "To continue for web scraping project some basic library needed. Some of them are installed here.\n",
    "Those are regular expression as re, request library for web url, beautiful soup for parsing web data."
   ]
  },
  {
   "cell_type": "code",
   "execution_count": 9,
   "id": "E_09JzPWU-4p",
   "metadata": {
    "ExecuteTime": {
     "end_time": "2023-11-10T05:00:04.057681Z",
     "start_time": "2023-11-10T05:00:03.969961Z"
    },
    "id": "E_09JzPWU-4p"
   },
   "outputs": [],
   "source": [
    "# Import necessary libraries for web data scrape\n",
    "import re\n",
    "import requests\n",
    "from bs4 import BeautifulSoup"
   ]
  },
  {
   "cell_type": "code",
   "execution_count": 10,
   "id": "14ebd668",
   "metadata": {
    "ExecuteTime": {
     "end_time": "2023-11-10T05:00:04.112030Z",
     "start_time": "2023-11-10T05:00:04.060707Z"
    }
   },
   "outputs": [],
   "source": [
    "# Web page url for katz staff\n",
    "url = \"https://www.yu.edu/katz/staff\"\n",
    "# Fetching the url by request.get method to load the data in a varibale name response. \n",
    "response = requests.get(url)"
   ]
  },
  {
   "cell_type": "code",
   "execution_count": 11,
   "id": "5b072b3c",
   "metadata": {
    "ExecuteTime": {
     "end_time": "2023-11-10T05:00:04.117142Z",
     "start_time": "2023-11-10T05:00:04.113044Z"
    }
   },
   "outputs": [
    {
     "data": {
      "text/plain": [
       "200"
      ]
     },
     "execution_count": 11,
     "metadata": {},
     "output_type": "execute_result"
    }
   ],
   "source": [
    "# # Check if the request was successful (status code 200)\n",
    "response.status_code"
   ]
  },
  {
   "cell_type": "code",
   "execution_count": 12,
   "id": "S0xz0-X-U_v7",
   "metadata": {
    "ExecuteTime": {
     "end_time": "2023-11-10T05:00:04.151049Z",
     "start_time": "2023-11-10T05:00:04.119153Z"
    },
    "id": "S0xz0-X-U_v7"
   },
   "outputs": [],
   "source": [
    "# Parse the HTML content of the page using BeautifulSoup\n",
    "soup = BeautifulSoup(response.content,'html.parser')"
   ]
  },
  {
   "cell_type": "code",
   "execution_count": 13,
   "id": "CiW2rc7RU_yV",
   "metadata": {
    "ExecuteTime": {
     "end_time": "2023-11-10T05:00:04.158192Z",
     "start_time": "2023-11-10T05:00:04.153062Z"
    },
    "colab": {
     "base_uri": "https://localhost:8080/"
    },
    "id": "CiW2rc7RU_yV",
    "outputId": "618f10c8-f6ad-4b80-cb75-df40fb51ce5f"
   },
   "outputs": [],
   "source": [
    "# Find the div with class \"text-only\"\n",
    "staff = soup.find_all('div',class_='text-only')"
   ]
  },
  {
   "cell_type": "code",
   "execution_count": 14,
   "id": "9a43c7fe",
   "metadata": {
    "ExecuteTime": {
     "end_time": "2023-11-10T05:00:04.165232Z",
     "start_time": "2023-11-10T05:00:04.159204Z"
    }
   },
   "outputs": [
    {
     "data": {
      "text/plain": [
       "[<div class=\"text-only\">\n",
       " <div class=\"field field--name-field-paragraph-body\"><h3>Office of the Dean </h3>\n",
       " <p>Paul Russo, Vice Provost and Dean <br/>\n",
       " Professor of Data Science<br/><a href=\"/faculty/pages/russo-paul\">Read Dr. Russo's Biography</a> </p>\n",
       " <p>Aaron Ross, Assistant Dean for Academic Programs and Deputy to the Dean <br/><a href=\"mailto:Aaron.Ross2@yu.edu\">aaron.ross2@yu.edu</a> | 646-592-4148  <br/>\n",
       "  <br/>\n",
       " Sofia Binioris, Director of Communications and Strategic Initiatives<br/><a href=\"mailto:Sofia.Binioris@yu.edu\">sofia.binioris@yu.edu</a> | 645-592-4719</p>\n",
       " <p>Jackie Hamilton, Executive Director of Enrollment Management and Partnerships<br/><a href=\"mailto:jackie.hamilton@yu.edu\">jackie.hamilton@yu.edu</a> I 646-787-6194</p>\n",
       " <p>Pamela Rodman, Director of Finance and Administration<br/><a href=\"mailto:pamela.rodman@yu.edu\">pamela.rodman@yu.edu</a> I 646.592.4777</p>\n",
       " <p>Tabitha Collazo, Business and Operations Coordinator<br/><a href=\"mailto:tabitha.collazo@yu.edu\">tabitha.collazo@yu.edu</a> | 646-592-4735</p>\n",
       " <p>Ann Leary, <span style='font-size:12.0pt;\n",
       " mso-fareast-font-family:\"Times New Roman\";color:black'>Office Manager/Executive Assistant to the Dean's Office</span><br/><a href=\"mailto:ann.leary@yu.edu\">ann.leary@yu.edu</a> | 646-592-4724</p>\n",
       " <p> </p>\n",
       " <h3>Graduate Admissions</h3>\n",
       " <p>Jared Hakimi, Director<br/><a href=\"mailto:jared.hakimi@yu.edu\">jared.hakimi@yu.edu</a> | 646-592-4722 | <a href=\"https://go.yu.edu/meetings/jared-hakimi?_ga=2.135529905.1027554153.1643634144-1633120133.1643634142\">Schedule an Appointment</a></p>\n",
       " <p>Xavier Velasquez, Associate Director of Graduate Admissions Operations<br/><a href=\"mailto:xavier.velasquez@yu.edu\">xavier.velasquez@yu.edu</a> | 646-592-4737 | <a href=\"https://meetings.hubspot.com/xavier-velasquez?__hstc=56700149.5db5eded2ec4d880f347de3c9e3d599c.1643634145606.1643634145606.1643634145606.1&amp;__hssc=56700149.15.1643634145606&amp;__hsfp=26732394\">Schedule an Appointment</a></p>\n",
       " <p>Shayna Matzner, Assistant Director<br/><a data-auth=\"NotApplicable\" data-linkindex=\"1\" href=\"mailto:Shayna.matzner@yu.edu\" rel=\"noopener noreferrer\" target=\"_blank\">shayna.matzner@yu.edu</a> I 646-592-4726 I <a href=\"https://meetings.hubspot.com/shayna-matzner\" target=\"_blank\">Schedule an Appointment</a></p>\n",
       " <p>Linyu Zheng, Assistant Director<br/><a data-extlink=\"\" href=\"mailto:linyu.zheng@yu.edu\">linyu.zheng@yu.edu</a> I +1-332-271-5865 I <a data-extlink=\"\" href=\"https://meetings.hubspot.com/linyu?__hstc=56700149.b43e743c1ab61d02ba236e596c37e852.1683049744694.1683213755722.1683220006543.9&amp;__hssc=56700149.10.1683220006543&amp;__hsfp=1136147948\" rel=\"noopener\" target=\"_blank\">Schedule an Appointment</a></p>\n",
       " <p>Hyokyeong \"Kyeong\" Yu, International Student Advisor<br/><a href=\"mailto:hyokyeong.yu@yu.edu\">hyokyeong.yu@yu.edu</a> I 646-592-4736</p>\n",
       " <p> </p>\n",
       " <h3>Graduate Student Life</h3>\n",
       " <p>Rafael Reyes, Director of Graduate Student Life and Community Engagement<br/><a href=\"mailto:rafael.reyes@yu.edu\">rafael.reyes@yu.edu</a> I 646-592-4729</p>\n",
       " <p> </p>\n",
       " <h3>Academic Operations and Teaching and Learning</h3>\n",
       " <p>John Vivolo, Executive Director of Academic Operations and Teaching and Learning<br/><a href=\"mailto:john.vivolo@yu.edu\">john.vivolo@yu.edu</a> | 646-592-4743</p>\n",
       " <p>Nebahat Bayrakcioglu, Academic Program Coordinator, Physician Assistant Studies<br/><a href=\"mailto:nebahat.bayrakcioglu@yu.edu\">nebahat.bayrakcioglu@yu.edu</a> | 646-592-4034</p>\n",
       " <p>Gladys Davis, Academic Program Coordinator, Occupational Therapy<br/><a href=\"mailto:gladys.davis@yu.edu\">gladys.davis@yu.edu</a> | 646-592-4762</p>\n",
       " <p>Ariana Allias, Program Manager, STEM<br/><a href=\"mailto:ariana.allias@yu.edu\">ariana.allias@yu.edu</a> </p>\n",
       " <p>Lloyd Carew-Reid, Instructional Designer<br/><a href=\"mailto:Lloyd.Carewreid@yu.edu\">lloyd.carew-reid@yu.edu</a> | 646-592-4768</p>\n",
       " <p>Denton Field, Media Production Manager<br/><a href=\"mailto:denton.field@yu.edu\">denton.field@yu.edu</a></p>\n",
       " </div>\n",
       " </div>]"
      ]
     },
     "execution_count": 14,
     "metadata": {},
     "output_type": "execute_result"
    }
   ],
   "source": [
    "staff"
   ]
  },
  {
   "cell_type": "markdown",
   "id": "6c904e50",
   "metadata": {},
   "source": [
    "Within staff variable I have found all text data for staffs. Now look at the text for all paragraph in array format."
   ]
  },
  {
   "cell_type": "code",
   "execution_count": 15,
   "id": "rLbLZHrqU_0j",
   "metadata": {
    "ExecuteTime": {
     "end_time": "2023-11-10T05:00:04.174147Z",
     "start_time": "2023-11-10T05:00:04.167245Z"
    },
    "id": "rLbLZHrqU_0j"
   },
   "outputs": [
    {
     "data": {
      "text/plain": [
       "[<p>Paul Russo, Vice Provost and Dean <br/>\n",
       " Professor of Data Science<br/><a href=\"/faculty/pages/russo-paul\">Read Dr. Russo's Biography</a> </p>,\n",
       " <p>Aaron Ross, Assistant Dean for Academic Programs and Deputy to the Dean <br/><a href=\"mailto:Aaron.Ross2@yu.edu\">aaron.ross2@yu.edu</a> | 646-592-4148  <br/>\n",
       "  <br/>\n",
       " Sofia Binioris, Director of Communications and Strategic Initiatives<br/><a href=\"mailto:Sofia.Binioris@yu.edu\">sofia.binioris@yu.edu</a> | 645-592-4719</p>,\n",
       " <p>Jackie Hamilton, Executive Director of Enrollment Management and Partnerships<br/><a href=\"mailto:jackie.hamilton@yu.edu\">jackie.hamilton@yu.edu</a> I 646-787-6194</p>,\n",
       " <p>Pamela Rodman, Director of Finance and Administration<br/><a href=\"mailto:pamela.rodman@yu.edu\">pamela.rodman@yu.edu</a> I 646.592.4777</p>,\n",
       " <p>Tabitha Collazo, Business and Operations Coordinator<br/><a href=\"mailto:tabitha.collazo@yu.edu\">tabitha.collazo@yu.edu</a> | 646-592-4735</p>,\n",
       " <p>Ann Leary, <span style='font-size:12.0pt;\n",
       " mso-fareast-font-family:\"Times New Roman\";color:black'>Office Manager/Executive Assistant to the Dean's Office</span><br/><a href=\"mailto:ann.leary@yu.edu\">ann.leary@yu.edu</a> | 646-592-4724</p>,\n",
       " <p> </p>,\n",
       " <p>Jared Hakimi, Director<br/><a href=\"mailto:jared.hakimi@yu.edu\">jared.hakimi@yu.edu</a> | 646-592-4722 | <a href=\"https://go.yu.edu/meetings/jared-hakimi?_ga=2.135529905.1027554153.1643634144-1633120133.1643634142\">Schedule an Appointment</a></p>,\n",
       " <p>Xavier Velasquez, Associate Director of Graduate Admissions Operations<br/><a href=\"mailto:xavier.velasquez@yu.edu\">xavier.velasquez@yu.edu</a> | 646-592-4737 | <a href=\"https://meetings.hubspot.com/xavier-velasquez?__hstc=56700149.5db5eded2ec4d880f347de3c9e3d599c.1643634145606.1643634145606.1643634145606.1&amp;__hssc=56700149.15.1643634145606&amp;__hsfp=26732394\">Schedule an Appointment</a></p>,\n",
       " <p>Shayna Matzner, Assistant Director<br/><a data-auth=\"NotApplicable\" data-linkindex=\"1\" href=\"mailto:Shayna.matzner@yu.edu\" rel=\"noopener noreferrer\" target=\"_blank\">shayna.matzner@yu.edu</a> I 646-592-4726 I <a href=\"https://meetings.hubspot.com/shayna-matzner\" target=\"_blank\">Schedule an Appointment</a></p>,\n",
       " <p>Linyu Zheng, Assistant Director<br/><a data-extlink=\"\" href=\"mailto:linyu.zheng@yu.edu\">linyu.zheng@yu.edu</a> I +1-332-271-5865 I <a data-extlink=\"\" href=\"https://meetings.hubspot.com/linyu?__hstc=56700149.b43e743c1ab61d02ba236e596c37e852.1683049744694.1683213755722.1683220006543.9&amp;__hssc=56700149.10.1683220006543&amp;__hsfp=1136147948\" rel=\"noopener\" target=\"_blank\">Schedule an Appointment</a></p>,\n",
       " <p>Hyokyeong \"Kyeong\" Yu, International Student Advisor<br/><a href=\"mailto:hyokyeong.yu@yu.edu\">hyokyeong.yu@yu.edu</a> I 646-592-4736</p>,\n",
       " <p> </p>,\n",
       " <p>Rafael Reyes, Director of Graduate Student Life and Community Engagement<br/><a href=\"mailto:rafael.reyes@yu.edu\">rafael.reyes@yu.edu</a> I 646-592-4729</p>,\n",
       " <p> </p>,\n",
       " <p>John Vivolo, Executive Director of Academic Operations and Teaching and Learning<br/><a href=\"mailto:john.vivolo@yu.edu\">john.vivolo@yu.edu</a> | 646-592-4743</p>,\n",
       " <p>Nebahat Bayrakcioglu, Academic Program Coordinator, Physician Assistant Studies<br/><a href=\"mailto:nebahat.bayrakcioglu@yu.edu\">nebahat.bayrakcioglu@yu.edu</a> | 646-592-4034</p>,\n",
       " <p>Gladys Davis, Academic Program Coordinator, Occupational Therapy<br/><a href=\"mailto:gladys.davis@yu.edu\">gladys.davis@yu.edu</a> | 646-592-4762</p>,\n",
       " <p>Ariana Allias, Program Manager, STEM<br/><a href=\"mailto:ariana.allias@yu.edu\">ariana.allias@yu.edu</a> </p>,\n",
       " <p>Lloyd Carew-Reid, Instructional Designer<br/><a href=\"mailto:Lloyd.Carewreid@yu.edu\">lloyd.carew-reid@yu.edu</a> | 646-592-4768</p>,\n",
       " <p>Denton Field, Media Production Manager<br/><a href=\"mailto:denton.field@yu.edu\">denton.field@yu.edu</a></p>]"
      ]
     },
     "execution_count": 15,
     "metadata": {},
     "output_type": "execute_result"
    }
   ],
   "source": [
    "# Extract all paragrapgh from text into staff_arr variable\n",
    "staff_arr = staff[0].find_all('p')\n",
    "staff_arr"
   ]
  },
  {
   "cell_type": "markdown",
   "id": "91ad7e70",
   "metadata": {},
   "source": [
    "__From the array we can easily view all the text data about staffs name, title, phone, office, email etc. Now I will extract all necessary information step by step__"
   ]
  },
  {
   "cell_type": "markdown",
   "id": "0e04787c",
   "metadata": {},
   "source": [
    "## Getting the Name of staff\n",
    "To get the name of the staff data I will create an empty list where will insert data, then will use for loop, regex, lambda funtion to finally get the cleaned data in a list."
   ]
  },
  {
   "cell_type": "code",
   "execution_count": 16,
   "id": "Gj9AaIibhltF",
   "metadata": {
    "ExecuteTime": {
     "end_time": "2023-11-10T05:00:04.179883Z",
     "start_time": "2023-11-10T05:00:04.175604Z"
    },
    "colab": {
     "base_uri": "https://localhost:8080/"
    },
    "id": "Gj9AaIibhltF",
    "outputId": "92665193-df1b-4083-ec8e-1b5e3fae64f7"
   },
   "outputs": [],
   "source": [
    "# create an empty list \n",
    "names = []\n",
    "# Using for loop and regex get the names of staff\n",
    "for name in staff[0].find_all('p'):\n",
    "  name = name.get_text()\n",
    "  name = name.split('\\xa0\\n\\xa0\\n')\n",
    "  if len(name) == 1:\n",
    "    name = name[0].split(',')\n",
    "    names.append(name[0])\n",
    "  else:\n",
    "    for n in name:\n",
    "      n = n.split(',')\n",
    "      names.append(n[0])\n",
    "\n",
    "names = list(filter(lambda x: len(x) > 0 and x != '\\xa0',names))\n"
   ]
  },
  {
   "cell_type": "code",
   "execution_count": 17,
   "id": "6f293ee6",
   "metadata": {
    "ExecuteTime": {
     "end_time": "2023-11-10T05:00:04.186560Z",
     "start_time": "2023-11-10T05:00:04.182036Z"
    }
   },
   "outputs": [
    {
     "name": "stdout",
     "output_type": "stream",
     "text": [
      "The name of staffs : ['Paul Russo', 'Aaron Ross', 'Sofia Binioris', 'Jackie Hamilton', 'Pamela Rodman', 'Tabitha Collazo', 'Ann Leary', 'Jared Hakimi', 'Xavier Velasquez', 'Shayna Matzner', 'Linyu Zheng', 'Hyokyeong \"Kyeong\" Yu', 'Rafael Reyes', 'John Vivolo', 'Nebahat Bayrakcioglu', 'Gladys Davis', 'Ariana Allias', 'Lloyd Carew-Reid', 'Denton Field']\n",
      "xxxxxxxxxxxxxxxxxxxxxxxxxxxxxxxxxxxxxx\n",
      "The total number of staffs are : 19\n"
     ]
    }
   ],
   "source": [
    "# see the name of staffs at katz\n",
    "print(\"The name of staffs :\", names)\n",
    "\n",
    "print(\"xxxxxxxxxxxxxxxxxxxxxxxxxxxxxxxxxxxxxx\")\n",
    "# View the number of staffs at katz\n",
    "print(\"The total number of staffs are :\", len(names))"
   ]
  },
  {
   "cell_type": "markdown",
   "id": "777e396f",
   "metadata": {},
   "source": [
    "## Getting the email of staff\n",
    "To get the email of the staff data I will create an empty list where will insert data, then will use for loop, regex, lambda funtion to finally get the cleaned data in a list."
   ]
  },
  {
   "cell_type": "code",
   "execution_count": 18,
   "id": "HoQh6Irgqcvt",
   "metadata": {
    "ExecuteTime": {
     "end_time": "2023-11-10T05:00:04.193648Z",
     "start_time": "2023-11-10T05:00:04.188585Z"
    },
    "colab": {
     "base_uri": "https://localhost:8080/"
    },
    "id": "HoQh6Irgqcvt",
    "outputId": "fe1057d3-e5ac-4c55-e1bc-4e10263e29ac"
   },
   "outputs": [],
   "source": [
    "# Creating an empty list emails\n",
    "emails = []\n",
    "\n",
    "for email in staff[0].find_all('p'):\n",
    "\n",
    "  for a in email.find_all('a'):\n",
    "    emails.append(a.text)\n",
    "\n",
    "emails = list(filter(lambda x: 'Schedule an Appointment' not in x,emails))\n",
    "email_pattern = r'^[a-zA-Z0-9._%+-]+@[a-zA-Z0-9.-]+\\.[a-zA-Z]{2,}$'\n",
    "\n",
    "emails = list(map(lambda x: x if re.match(email_pattern,x) else 'NA',emails))"
   ]
  },
  {
   "cell_type": "markdown",
   "id": "cbe39671",
   "metadata": {},
   "source": [
    "__Show the mails and number of emails in the text__"
   ]
  },
  {
   "cell_type": "code",
   "execution_count": 19,
   "id": "f23660a4",
   "metadata": {
    "ExecuteTime": {
     "end_time": "2023-11-10T05:00:04.198562Z",
     "start_time": "2023-11-10T05:00:04.194659Z"
    }
   },
   "outputs": [
    {
     "name": "stdout",
     "output_type": "stream",
     "text": [
      "The email of staffs : ['NA', 'aaron.ross2@yu.edu', 'sofia.binioris@yu.edu', 'jackie.hamilton@yu.edu', 'pamela.rodman@yu.edu', 'tabitha.collazo@yu.edu', 'ann.leary@yu.edu', 'jared.hakimi@yu.edu', 'xavier.velasquez@yu.edu', 'shayna.matzner@yu.edu', 'linyu.zheng@yu.edu', 'hyokyeong.yu@yu.edu', 'rafael.reyes@yu.edu', 'john.vivolo@yu.edu', 'nebahat.bayrakcioglu@yu.edu', 'gladys.davis@yu.edu', 'ariana.allias@yu.edu', 'lloyd.carew-reid@yu.edu', 'denton.field@yu.edu']\n",
      "xxxxxxxxxxxxxxxxxxxxxxxxxxxxxxxxxxxxxx\n",
      "The total number of emails are including NA(who has not email): 19\n"
     ]
    }
   ],
   "source": [
    "# see the email of staffs at katz\n",
    "print(\"The email of staffs :\", emails)\n",
    "\n",
    "print(\"xxxxxxxxxxxxxxxxxxxxxxxxxxxxxxxxxxxxxx\")\n",
    "\n",
    "# View the number of emails at katz\n",
    "print(\"The total number of emails are including NA(who has not email):\", len(emails))"
   ]
  },
  {
   "cell_type": "markdown",
   "id": "19b79c23",
   "metadata": {},
   "source": [
    "## Getting the title of staff\n",
    "To get the title of the staff data I will create an empty list where will insert data, then will use for loop and regex to finally get the cleaned data in a list."
   ]
  },
  {
   "cell_type": "code",
   "execution_count": 20,
   "id": "1ZwiK6S0twTd",
   "metadata": {
    "ExecuteTime": {
     "end_time": "2023-11-10T05:00:04.207366Z",
     "start_time": "2023-11-10T05:00:04.200574Z"
    },
    "colab": {
     "base_uri": "https://localhost:8080/"
    },
    "id": "1ZwiK6S0twTd",
    "outputId": "d93616b1-7821-480f-b8df-dee4ae412561"
   },
   "outputs": [],
   "source": [
    "# Create an empty list as titles\n",
    "titles = []\n",
    "\n",
    "i = 0\n",
    "for title in staff[0].find_all('p'):\n",
    "  title =  title.get_text()\n",
    "  title = title.split('\\xa0\\n\\xa0\\n')\n",
    "  if title == ['\\xa0']:\n",
    "    continue\n",
    "  if len(title) == 1:\n",
    "    titles.append(title[0].split(',')[1].split(emails[i])[0])\n",
    "    i += 1\n",
    "  else:\n",
    "    for t in title:\n",
    "      titles.append(t.split(',')[1].split(emails[i])[0])\n",
    "      i += 1"
   ]
  },
  {
   "cell_type": "markdown",
   "id": "c2ff5c5e",
   "metadata": {},
   "source": [
    "__Show the titles and number of titles in the dataset__"
   ]
  },
  {
   "cell_type": "code",
   "execution_count": 21,
   "id": "1d9cbcb7",
   "metadata": {
    "ExecuteTime": {
     "end_time": "2023-11-10T05:00:04.214294Z",
     "start_time": "2023-11-10T05:00:04.210399Z"
    }
   },
   "outputs": [
    {
     "name": "stdout",
     "output_type": "stream",
     "text": [
      "The title of staffs : [\" Vice Provost and Dean\\xa0\\nProfessor of Data ScienceRead Dr. Russo's Biography\\xa0\", ' Assistant Dean for Academic Programs and Deputy to the Dean\\xa0', ' Director of Communications and Strategic Initiatives', ' Executive Director of Enrollment Management and Partnerships', ' Director of Finance and Administration', ' Business and Operations Coordinator', \"\\xa0Office Manager/Executive Assistant to the Dean's Office\", ' Director', ' Associate Director of Graduate Admissions Operations', ' Assistant Director', '\\xa0Assistant Director', ' International Student Advisor', ' Director of Graduate Student Life and Community Engagement', ' Executive Director of Academic Operations and Teaching and Learning', ' Academic Program Coordinator', ' Academic Program Coordinator', ' Program Manager', '\\xa0Instructional Designer', ' Media Production Manager']\n",
      "xxxxxxxxxxxxxxxxxxxxxxxxxxxxxxxxxxxxxx\n",
      "The total number of titles are : 19\n"
     ]
    }
   ],
   "source": [
    "# See the title of staffs at katz\n",
    "print(\"The title of staffs :\", titles)\n",
    "\n",
    "print(\"xxxxxxxxxxxxxxxxxxxxxxxxxxxxxxxxxxxxxx\")\n",
    "\n",
    "# View the number of titles at katz\n",
    "print(\"The total number of titles are :\", len(titles))"
   ]
  },
  {
   "cell_type": "markdown",
   "id": "b1a1f7b6",
   "metadata": {},
   "source": [
    "## Getting the phone number of staff\n",
    "To get the phone number of the staff data I will create an empty list where will insert data, then will use for loop and regex to finally get the cleaned data in a list."
   ]
  },
  {
   "cell_type": "code",
   "execution_count": 22,
   "id": "ril58wBeyQp1",
   "metadata": {
    "ExecuteTime": {
     "end_time": "2023-11-10T05:00:04.222644Z",
     "start_time": "2023-11-10T05:00:04.216306Z"
    },
    "colab": {
     "base_uri": "https://localhost:8080/"
    },
    "id": "ril58wBeyQp1",
    "outputId": "a68ba7d5-28e5-4166-9ca9-8208a155f4c3"
   },
   "outputs": [],
   "source": [
    "# Create an empty list an phone nums\n",
    "phone_nums = []\n",
    "\n",
    "i = 0\n",
    "for phones in staff[0].find_all('p'):\n",
    "  phones =  phones.get_text()\n",
    "  phones = phones.split('\\xa0\\n\\xa0\\n')\n",
    "  phone_pattern = r'(\\+\\d{1,3}\\s?)?(\\d{3}[-\\s]?\\d{3}[-\\s]?\\d{4})'\n",
    "\n",
    "  if phones == ['\\xa0']:\n",
    "    continue\n",
    "  if len(phones) == 1:\n",
    "    filter_phone = re.findall(phone_pattern,phones[0])\n",
    "    if filter_phone:\n",
    "      phone_nums.append(filter_phone[0][1])\n",
    "    else:\n",
    "      phone_nums.append(\"NA\")\n",
    "    # print(filter_phone)\n",
    "    # break\n",
    "    # titles.append(title[0].split(',')[1].split(emails[i])[0])\n",
    "    i += 1\n",
    "  else:\n",
    "    for p in phones:\n",
    "      filter_phone = re.findall(phone_pattern,p)\n",
    "      if filter_phone:\n",
    "        phone_nums.append(filter_phone[0][1])\n",
    "      else:\n",
    "        phone_nums.append(\"NA\")\n",
    "      # titles.append(t.split(',')[1].split(emails[i])[0])\n",
    "      i += 1"
   ]
  },
  {
   "cell_type": "code",
   "execution_count": 23,
   "id": "24acd0d2",
   "metadata": {
    "ExecuteTime": {
     "end_time": "2023-11-10T05:00:04.229996Z",
     "start_time": "2023-11-10T05:00:04.225655Z"
    }
   },
   "outputs": [
    {
     "name": "stdout",
     "output_type": "stream",
     "text": [
      "The phone number of staffs : ['NA', '646-592-4148', '645-592-4719', '646-787-6194', 'NA', '646-592-4735', '646-592-4724', '646-592-4722', '646-592-4737', '646-592-4726', '332-271-5865', '646-592-4736', '646-592-4729', '646-592-4743', '646-592-4034', '646-592-4762', 'NA', '646-592-4768', 'NA']\n",
      "xxxxxxxxxxxxxxxxxxxxxxxxxxxxxxxxxxxxxx\n",
      "The total number of phones user are : 19\n"
     ]
    }
   ],
   "source": [
    "# Find the phone numbers of staffs at katz\n",
    "print(\"The phone number of staffs :\", phone_nums)\n",
    "\n",
    "print(\"xxxxxxxxxxxxxxxxxxxxxxxxxxxxxxxxxxxxxx\")\n",
    "\n",
    "# View the number of phones for staff use at katz\n",
    "print(\"The total number of phones user are :\", len(phone_nums))"
   ]
  },
  {
   "cell_type": "markdown",
   "id": "b5767151",
   "metadata": {
    "id": "b5767151"
   },
   "source": [
    "## Getting the name of the offices\n",
    "\n",
    "From the text element we have found that under h3 header we have all offices name. So first we do collect the offices data in offices variable."
   ]
  },
  {
   "cell_type": "code",
   "execution_count": 24,
   "id": "56a5f2a4",
   "metadata": {
    "ExecuteTime": {
     "end_time": "2023-11-10T05:00:04.238205Z",
     "start_time": "2023-11-10T05:00:04.232005Z"
    },
    "colab": {
     "base_uri": "https://localhost:8080/"
    },
    "id": "56a5f2a4",
    "outputId": "0f4753b9-dfef-4228-bc80-43a363400c95"
   },
   "outputs": [
    {
     "data": {
      "text/plain": [
       "[<h3>Office of the Dean </h3>,\n",
       " <h3>Graduate Admissions</h3>,\n",
       " <h3>Graduate Student Life</h3>,\n",
       " <h3>Academic Operations and Teaching and Learning</h3>]"
      ]
     },
     "execution_count": 24,
     "metadata": {},
     "output_type": "execute_result"
    }
   ],
   "source": [
    "# Find the offices from the heading elements under h3\n",
    "h3_elements = staff[0].find_all('h3')\n",
    "h3_elements"
   ]
  },
  {
   "cell_type": "code",
   "execution_count": 25,
   "id": "c48b4645",
   "metadata": {
    "ExecuteTime": {
     "end_time": "2023-11-10T05:00:04.243405Z",
     "start_time": "2023-11-10T05:00:04.240241Z"
    },
    "id": "c48b4645"
   },
   "outputs": [],
   "source": [
    "# Extract and store the text in the offices variable as list\n",
    "offices = [h3.get_text().strip() for h3 in h3_elements]"
   ]
  },
  {
   "cell_type": "code",
   "execution_count": 26,
   "id": "ec6efbc5",
   "metadata": {
    "ExecuteTime": {
     "end_time": "2023-11-10T05:00:04.251984Z",
     "start_time": "2023-11-10T05:00:04.246364Z"
    },
    "colab": {
     "base_uri": "https://localhost:8080/"
    },
    "id": "ec6efbc5",
    "outputId": "126519f2-e1bb-4ce1-ab3d-0ccb0eb7028b"
   },
   "outputs": [
    {
     "data": {
      "text/plain": [
       "['Office of the Dean',\n",
       " 'Graduate Admissions',\n",
       " 'Graduate Student Life',\n",
       " 'Academic Operations and Teaching and Learning']"
      ]
     },
     "execution_count": 26,
     "metadata": {},
     "output_type": "execute_result"
    }
   ],
   "source": [
    "# Show the list of offices\n",
    "offices"
   ]
  },
  {
   "cell_type": "markdown",
   "id": "d163bdb5",
   "metadata": {},
   "source": [
    "__AS we have only 4 offices and 19 employees. One office has one or more employee, so we will define them accordingly.__\n",
    "__First we will create a dataframe and insert the values in that dataframe designed columns__"
   ]
  },
  {
   "cell_type": "code",
   "execution_count": 27,
   "id": "eG2R6y9iV5K6",
   "metadata": {
    "ExecuteTime": {
     "end_time": "2023-11-10T05:00:04.257376Z",
     "start_time": "2023-11-10T05:00:04.254251Z"
    },
    "id": "eG2R6y9iV5K6"
   },
   "outputs": [],
   "source": [
    "# Creating dataframe as staff_info\n",
    "staff_info = pd.DataFrame({\n",
    "    #\"office\": offices,\n",
    "    \"name\": names,\n",
    "    \"title\": titles,\n",
    "    \"email\": emails,\n",
    "    \"phone\": phone_nums\n",
    "})"
   ]
  },
  {
   "cell_type": "code",
   "execution_count": 28,
   "id": "3463056c",
   "metadata": {
    "ExecuteTime": {
     "end_time": "2023-11-10T05:00:04.269571Z",
     "start_time": "2023-11-10T05:00:04.263768Z"
    }
   },
   "outputs": [],
   "source": [
    "# Create a new column for the office\n",
    "staff_info['office'] = ''\n",
    "\n",
    "# Assign values to the 'office' column\n",
    "staff_info.loc[:6, 'office'] = offices[0]\n",
    "staff_info.loc[7:11, 'office'] = offices[1]\n",
    "staff_info.loc[12, 'office'] = offices[2]\n",
    "staff_info.loc[13:, 'office'] = offices[3]"
   ]
  },
  {
   "cell_type": "code",
   "execution_count": 29,
   "id": "F8Qe5NkQV5Nd",
   "metadata": {
    "ExecuteTime": {
     "end_time": "2023-11-10T05:00:04.280468Z",
     "start_time": "2023-11-10T05:00:04.271585Z"
    },
    "colab": {
     "base_uri": "https://localhost:8080/",
     "height": 645
    },
    "id": "F8Qe5NkQV5Nd",
    "outputId": "ad5a7658-ddcd-4522-d13d-5aeeb494963e"
   },
   "outputs": [
    {
     "data": {
      "text/html": [
       "<div>\n",
       "<style scoped>\n",
       "    .dataframe tbody tr th:only-of-type {\n",
       "        vertical-align: middle;\n",
       "    }\n",
       "\n",
       "    .dataframe tbody tr th {\n",
       "        vertical-align: top;\n",
       "    }\n",
       "\n",
       "    .dataframe thead th {\n",
       "        text-align: right;\n",
       "    }\n",
       "</style>\n",
       "<table border=\"1\" class=\"dataframe\">\n",
       "  <thead>\n",
       "    <tr style=\"text-align: right;\">\n",
       "      <th></th>\n",
       "      <th>name</th>\n",
       "      <th>title</th>\n",
       "      <th>email</th>\n",
       "      <th>phone</th>\n",
       "      <th>office</th>\n",
       "    </tr>\n",
       "  </thead>\n",
       "  <tbody>\n",
       "    <tr>\n",
       "      <th>0</th>\n",
       "      <td>Paul Russo</td>\n",
       "      <td>Vice Provost and Dean \\nProfessor of Data Sci...</td>\n",
       "      <td>NA</td>\n",
       "      <td>NA</td>\n",
       "      <td>Office of the Dean</td>\n",
       "    </tr>\n",
       "    <tr>\n",
       "      <th>1</th>\n",
       "      <td>Aaron Ross</td>\n",
       "      <td>Assistant Dean for Academic Programs and Depu...</td>\n",
       "      <td>aaron.ross2@yu.edu</td>\n",
       "      <td>646-592-4148</td>\n",
       "      <td>Office of the Dean</td>\n",
       "    </tr>\n",
       "    <tr>\n",
       "      <th>2</th>\n",
       "      <td>Sofia Binioris</td>\n",
       "      <td>Director of Communications and Strategic Init...</td>\n",
       "      <td>sofia.binioris@yu.edu</td>\n",
       "      <td>645-592-4719</td>\n",
       "      <td>Office of the Dean</td>\n",
       "    </tr>\n",
       "    <tr>\n",
       "      <th>3</th>\n",
       "      <td>Jackie Hamilton</td>\n",
       "      <td>Executive Director of Enrollment Management a...</td>\n",
       "      <td>jackie.hamilton@yu.edu</td>\n",
       "      <td>646-787-6194</td>\n",
       "      <td>Office of the Dean</td>\n",
       "    </tr>\n",
       "    <tr>\n",
       "      <th>4</th>\n",
       "      <td>Pamela Rodman</td>\n",
       "      <td>Director of Finance and Administration</td>\n",
       "      <td>pamela.rodman@yu.edu</td>\n",
       "      <td>NA</td>\n",
       "      <td>Office of the Dean</td>\n",
       "    </tr>\n",
       "    <tr>\n",
       "      <th>5</th>\n",
       "      <td>Tabitha Collazo</td>\n",
       "      <td>Business and Operations Coordinator</td>\n",
       "      <td>tabitha.collazo@yu.edu</td>\n",
       "      <td>646-592-4735</td>\n",
       "      <td>Office of the Dean</td>\n",
       "    </tr>\n",
       "    <tr>\n",
       "      <th>6</th>\n",
       "      <td>Ann Leary</td>\n",
       "      <td>Office Manager/Executive Assistant to the Dea...</td>\n",
       "      <td>ann.leary@yu.edu</td>\n",
       "      <td>646-592-4724</td>\n",
       "      <td>Office of the Dean</td>\n",
       "    </tr>\n",
       "    <tr>\n",
       "      <th>7</th>\n",
       "      <td>Jared Hakimi</td>\n",
       "      <td>Director</td>\n",
       "      <td>jared.hakimi@yu.edu</td>\n",
       "      <td>646-592-4722</td>\n",
       "      <td>Graduate Admissions</td>\n",
       "    </tr>\n",
       "    <tr>\n",
       "      <th>8</th>\n",
       "      <td>Xavier Velasquez</td>\n",
       "      <td>Associate Director of Graduate Admissions Ope...</td>\n",
       "      <td>xavier.velasquez@yu.edu</td>\n",
       "      <td>646-592-4737</td>\n",
       "      <td>Graduate Admissions</td>\n",
       "    </tr>\n",
       "    <tr>\n",
       "      <th>9</th>\n",
       "      <td>Shayna Matzner</td>\n",
       "      <td>Assistant Director</td>\n",
       "      <td>shayna.matzner@yu.edu</td>\n",
       "      <td>646-592-4726</td>\n",
       "      <td>Graduate Admissions</td>\n",
       "    </tr>\n",
       "    <tr>\n",
       "      <th>10</th>\n",
       "      <td>Linyu Zheng</td>\n",
       "      <td>Assistant Director</td>\n",
       "      <td>linyu.zheng@yu.edu</td>\n",
       "      <td>332-271-5865</td>\n",
       "      <td>Graduate Admissions</td>\n",
       "    </tr>\n",
       "    <tr>\n",
       "      <th>11</th>\n",
       "      <td>Hyokyeong \"Kyeong\" Yu</td>\n",
       "      <td>International Student Advisor</td>\n",
       "      <td>hyokyeong.yu@yu.edu</td>\n",
       "      <td>646-592-4736</td>\n",
       "      <td>Graduate Admissions</td>\n",
       "    </tr>\n",
       "    <tr>\n",
       "      <th>12</th>\n",
       "      <td>Rafael Reyes</td>\n",
       "      <td>Director of Graduate Student Life and Communi...</td>\n",
       "      <td>rafael.reyes@yu.edu</td>\n",
       "      <td>646-592-4729</td>\n",
       "      <td>Graduate Student Life</td>\n",
       "    </tr>\n",
       "    <tr>\n",
       "      <th>13</th>\n",
       "      <td>John Vivolo</td>\n",
       "      <td>Executive Director of Academic Operations and...</td>\n",
       "      <td>john.vivolo@yu.edu</td>\n",
       "      <td>646-592-4743</td>\n",
       "      <td>Academic Operations and Teaching and Learning</td>\n",
       "    </tr>\n",
       "    <tr>\n",
       "      <th>14</th>\n",
       "      <td>Nebahat Bayrakcioglu</td>\n",
       "      <td>Academic Program Coordinator</td>\n",
       "      <td>nebahat.bayrakcioglu@yu.edu</td>\n",
       "      <td>646-592-4034</td>\n",
       "      <td>Academic Operations and Teaching and Learning</td>\n",
       "    </tr>\n",
       "    <tr>\n",
       "      <th>15</th>\n",
       "      <td>Gladys Davis</td>\n",
       "      <td>Academic Program Coordinator</td>\n",
       "      <td>gladys.davis@yu.edu</td>\n",
       "      <td>646-592-4762</td>\n",
       "      <td>Academic Operations and Teaching and Learning</td>\n",
       "    </tr>\n",
       "    <tr>\n",
       "      <th>16</th>\n",
       "      <td>Ariana Allias</td>\n",
       "      <td>Program Manager</td>\n",
       "      <td>ariana.allias@yu.edu</td>\n",
       "      <td>NA</td>\n",
       "      <td>Academic Operations and Teaching and Learning</td>\n",
       "    </tr>\n",
       "    <tr>\n",
       "      <th>17</th>\n",
       "      <td>Lloyd Carew-Reid</td>\n",
       "      <td>Instructional Designer</td>\n",
       "      <td>lloyd.carew-reid@yu.edu</td>\n",
       "      <td>646-592-4768</td>\n",
       "      <td>Academic Operations and Teaching and Learning</td>\n",
       "    </tr>\n",
       "    <tr>\n",
       "      <th>18</th>\n",
       "      <td>Denton Field</td>\n",
       "      <td>Media Production Manager</td>\n",
       "      <td>denton.field@yu.edu</td>\n",
       "      <td>NA</td>\n",
       "      <td>Academic Operations and Teaching and Learning</td>\n",
       "    </tr>\n",
       "  </tbody>\n",
       "</table>\n",
       "</div>"
      ],
      "text/plain": [
       "                     name                                              title  \\\n",
       "0              Paul Russo   Vice Provost and Dean \\nProfessor of Data Sci...   \n",
       "1              Aaron Ross   Assistant Dean for Academic Programs and Depu...   \n",
       "2          Sofia Binioris   Director of Communications and Strategic Init...   \n",
       "3         Jackie Hamilton   Executive Director of Enrollment Management a...   \n",
       "4           Pamela Rodman             Director of Finance and Administration   \n",
       "5         Tabitha Collazo                Business and Operations Coordinator   \n",
       "6               Ann Leary   Office Manager/Executive Assistant to the Dea...   \n",
       "7            Jared Hakimi                                           Director   \n",
       "8        Xavier Velasquez   Associate Director of Graduate Admissions Ope...   \n",
       "9          Shayna Matzner                                 Assistant Director   \n",
       "10            Linyu Zheng                                 Assistant Director   \n",
       "11  Hyokyeong \"Kyeong\" Yu                      International Student Advisor   \n",
       "12           Rafael Reyes   Director of Graduate Student Life and Communi...   \n",
       "13            John Vivolo   Executive Director of Academic Operations and...   \n",
       "14   Nebahat Bayrakcioglu                       Academic Program Coordinator   \n",
       "15           Gladys Davis                       Academic Program Coordinator   \n",
       "16          Ariana Allias                                    Program Manager   \n",
       "17       Lloyd Carew-Reid                             Instructional Designer   \n",
       "18           Denton Field                           Media Production Manager   \n",
       "\n",
       "                          email         phone  \\\n",
       "0                            NA            NA   \n",
       "1            aaron.ross2@yu.edu  646-592-4148   \n",
       "2         sofia.binioris@yu.edu  645-592-4719   \n",
       "3        jackie.hamilton@yu.edu  646-787-6194   \n",
       "4          pamela.rodman@yu.edu            NA   \n",
       "5        tabitha.collazo@yu.edu  646-592-4735   \n",
       "6              ann.leary@yu.edu  646-592-4724   \n",
       "7           jared.hakimi@yu.edu  646-592-4722   \n",
       "8       xavier.velasquez@yu.edu  646-592-4737   \n",
       "9         shayna.matzner@yu.edu  646-592-4726   \n",
       "10           linyu.zheng@yu.edu  332-271-5865   \n",
       "11          hyokyeong.yu@yu.edu  646-592-4736   \n",
       "12          rafael.reyes@yu.edu  646-592-4729   \n",
       "13           john.vivolo@yu.edu  646-592-4743   \n",
       "14  nebahat.bayrakcioglu@yu.edu  646-592-4034   \n",
       "15          gladys.davis@yu.edu  646-592-4762   \n",
       "16         ariana.allias@yu.edu            NA   \n",
       "17      lloyd.carew-reid@yu.edu  646-592-4768   \n",
       "18          denton.field@yu.edu            NA   \n",
       "\n",
       "                                           office  \n",
       "0                              Office of the Dean  \n",
       "1                              Office of the Dean  \n",
       "2                              Office of the Dean  \n",
       "3                              Office of the Dean  \n",
       "4                              Office of the Dean  \n",
       "5                              Office of the Dean  \n",
       "6                              Office of the Dean  \n",
       "7                             Graduate Admissions  \n",
       "8                             Graduate Admissions  \n",
       "9                             Graduate Admissions  \n",
       "10                            Graduate Admissions  \n",
       "11                            Graduate Admissions  \n",
       "12                          Graduate Student Life  \n",
       "13  Academic Operations and Teaching and Learning  \n",
       "14  Academic Operations and Teaching and Learning  \n",
       "15  Academic Operations and Teaching and Learning  \n",
       "16  Academic Operations and Teaching and Learning  \n",
       "17  Academic Operations and Teaching and Learning  \n",
       "18  Academic Operations and Teaching and Learning  "
      ]
     },
     "execution_count": 29,
     "metadata": {},
     "output_type": "execute_result"
    }
   ],
   "source": [
    "# View the created staff information dataframe\n",
    "staff_info"
   ]
  },
  {
   "cell_type": "markdown",
   "id": "5db5f034",
   "metadata": {
    "id": "5db5f034"
   },
   "source": [
    "# Part 3 : Working with Web API's\n",
    "\n",
    "To work with the newsdata.io API and convert the JSON data into a Pandas DataFrame for analysis, we need to follow these steps:\n",
    "- Sign up for an API key on the news data.io website.\n",
    "\n",
    "- Choose the API , where I have chosen Live Breaking News.\n",
    "\n",
    "- Use the API to retrieve JSON data.\n",
    "\n",
    "- Parse the JSON data.\n",
    "\n",
    "- Convert the data into a Pandas DataFrame.\n",
    "\n",
    "- Then will perform some basic analysis on the data."
   ]
  },
  {
   "cell_type": "markdown",
   "id": "880ad2e3",
   "metadata": {
    "id": "880ad2e3"
   },
   "source": [
    "## Step 1: Sign Up for an API Key\n",
    "\n",
    "I have visited the [newsdata](https://newsdata.io/) website and sign up for an API key, by following documentation and guidelines.\n",
    "\n",
    "I sign up with my email and then verify that email and log in with my password. Then I searched the data to choose."
   ]
  },
  {
   "cell_type": "markdown",
   "id": "b7a6bc5b",
   "metadata": {
    "id": "b7a6bc5b"
   },
   "source": [
    "## Step 2: Choose an API\n",
    "I have selected the 'Live Breaking News' API. The source of data is [source link](\"https://newsdata.io/api/1/news?apikey=pub_3243760fb6d22af18df2cd88f599ffca0ebfd&q=Live%20Breaking%20News\")"
   ]
  },
  {
   "cell_type": "markdown",
   "id": "d37cd28c",
   "metadata": {
    "id": "d37cd28c"
   },
   "source": [
    "## Step 3: Retrieve JSON Data\n",
    "Use Python to make an API request and retrieve JSON data. You can use the requests library to make HTTP requests.\n"
   ]
  },
  {
   "cell_type": "code",
   "execution_count": 30,
   "id": "b5b7db3b",
   "metadata": {
    "ExecuteTime": {
     "end_time": "2023-11-10T05:00:04.284936Z",
     "start_time": "2023-11-10T05:00:04.282481Z"
    },
    "id": "b5b7db3b"
   },
   "outputs": [],
   "source": [
    "import requests"
   ]
  },
  {
   "cell_type": "code",
   "execution_count": 31,
   "id": "f8c3672c",
   "metadata": {
    "ExecuteTime": {
     "end_time": "2023-11-10T05:00:04.289365Z",
     "start_time": "2023-11-10T05:00:04.286944Z"
    },
    "id": "f8c3672c"
   },
   "outputs": [],
   "source": [
    "# Define my API key\n",
    "api_key = 'pub_3243760fb6d22af18df2cd88f599ffca0ebfd'\n"
   ]
  },
  {
   "cell_type": "code",
   "execution_count": 32,
   "id": "8741a053",
   "metadata": {
    "ExecuteTime": {
     "end_time": "2023-11-10T05:00:04.296920Z",
     "start_time": "2023-11-10T05:00:04.291401Z"
    },
    "colab": {
     "base_uri": "https://localhost:8080/",
     "height": 35
    },
    "id": "8741a053",
    "outputId": "3e854e26-f9fa-4c6a-e1fd-7f7f79fbb772"
   },
   "outputs": [
    {
     "data": {
      "text/plain": [
       "'https://newsdata.io/api/1/news?apikey=pub_3243760fb6d22af18df2cd88f599ffca0ebfd&q=Live Breaking News'"
      ]
     },
     "execution_count": 32,
     "metadata": {},
     "output_type": "execute_result"
    }
   ],
   "source": [
    "# Define the API URL\n",
    "topic = 'Live Breaking News'\n",
    "api_url = f'https://newsdata.io/api/1/news?apikey={api_key}&q={topic}'\n",
    "api_url"
   ]
  },
  {
   "cell_type": "code",
   "execution_count": 33,
   "id": "9274e039",
   "metadata": {
    "ExecuteTime": {
     "end_time": "2023-11-10T05:00:06.976111Z",
     "start_time": "2023-11-10T05:00:04.298930Z"
    },
    "id": "9274e039"
   },
   "outputs": [
    {
     "data": {
      "text/plain": [
       "200"
      ]
     },
     "execution_count": 33,
     "metadata": {},
     "output_type": "execute_result"
    }
   ],
   "source": [
    "# Make the API request with my set key\n",
    "response = requests.get(api_url)\n",
    "# if response code result is 200 then we will get data sucessfully\n",
    "response.status_code"
   ]
  },
  {
   "cell_type": "code",
   "execution_count": 34,
   "id": "6c0cce83",
   "metadata": {
    "ExecuteTime": {
     "end_time": "2023-11-10T05:00:06.983149Z",
     "start_time": "2023-11-10T05:00:06.978159Z"
    },
    "id": "6c0cce83"
   },
   "outputs": [],
   "source": [
    "# Check the response status code\n",
    "if response.status_code == 200:\n",
    "    data = response.json()\n",
    "else:\n",
    "    print(f\"Failed to retrieve data. Status code: {response.status_code}\")\n",
    "    data = []\n"
   ]
  },
  {
   "cell_type": "markdown",
   "id": "8f445455",
   "metadata": {
    "id": "8f445455"
   },
   "source": [
    "## Step 4: Parse JSON Data and Create DataFrame\n",
    "Assuming that you have received JSON data, you can parse it and create a Pandas DataFrame.\n"
   ]
  },
  {
   "cell_type": "code",
   "execution_count": 35,
   "id": "LSWoy3jxs5Jx",
   "metadata": {
    "ExecuteTime": {
     "end_time": "2023-11-10T05:00:06.992388Z",
     "start_time": "2023-11-10T05:00:06.985161Z"
    },
    "id": "LSWoy3jxs5Jx"
   },
   "outputs": [],
   "source": [
    "# create an emmpty list as data\n",
    "data = news = data['results']"
   ]
  },
  {
   "cell_type": "code",
   "execution_count": 38,
   "id": "b39d6064",
   "metadata": {
    "ExecuteTime": {
     "end_time": "2023-11-10T05:01:42.075475Z",
     "start_time": "2023-11-10T05:01:42.051389Z"
    },
    "colab": {
     "base_uri": "https://localhost:8080/",
     "height": 590
    },
    "id": "b39d6064",
    "outputId": "72774e10-5930-4ba5-ceef-89338cf74793"
   },
   "outputs": [
    {
     "data": {
      "text/html": [
       "<div>\n",
       "<style scoped>\n",
       "    .dataframe tbody tr th:only-of-type {\n",
       "        vertical-align: middle;\n",
       "    }\n",
       "\n",
       "    .dataframe tbody tr th {\n",
       "        vertical-align: top;\n",
       "    }\n",
       "\n",
       "    .dataframe thead th {\n",
       "        text-align: right;\n",
       "    }\n",
       "</style>\n",
       "<table border=\"1\" class=\"dataframe\">\n",
       "  <thead>\n",
       "    <tr style=\"text-align: right;\">\n",
       "      <th></th>\n",
       "      <th>article_id</th>\n",
       "      <th>title</th>\n",
       "      <th>link</th>\n",
       "      <th>keywords</th>\n",
       "      <th>creator</th>\n",
       "      <th>video_url</th>\n",
       "      <th>description</th>\n",
       "      <th>content</th>\n",
       "      <th>pubDate</th>\n",
       "      <th>image_url</th>\n",
       "      <th>source_id</th>\n",
       "      <th>source_priority</th>\n",
       "      <th>country</th>\n",
       "      <th>category</th>\n",
       "      <th>language</th>\n",
       "    </tr>\n",
       "  </thead>\n",
       "  <tbody>\n",
       "    <tr>\n",
       "      <th>0</th>\n",
       "      <td>fea5a41568cef6a39596e86bdc88650e</td>\n",
       "      <td>Harry Styles fans mourn his beloved curls afte...</td>\n",
       "      <td>https://www.dailymail.co.uk/tvshowbiz/article-...</td>\n",
       "      <td>None</td>\n",
       "      <td>None</td>\n",
       "      <td>None</td>\n",
       "      <td>Harry Styles looked completely unrecognizable ...</td>\n",
       "      <td>Harry Styles fans mourn his beloved curls afte...</td>\n",
       "      <td>2023-11-10 03:31:49</td>\n",
       "      <td>https://i.dailymail.co.uk/1s/2023/11/10/00/776...</td>\n",
       "      <td>dailymailuk</td>\n",
       "      <td>135</td>\n",
       "      <td>[united kingdom]</td>\n",
       "      <td>[entertainment]</td>\n",
       "      <td>english</td>\n",
       "    </tr>\n",
       "    <tr>\n",
       "      <th>1</th>\n",
       "      <td>5efa82f63c8e98e4e739183a56542b0a</td>\n",
       "      <td>Morning brief: Canada enhances Air India secur...</td>\n",
       "      <td>https://www.hindustantimes.com/india-news/morn...</td>\n",
       "      <td>None</td>\n",
       "      <td>None</td>\n",
       "      <td>None</td>\n",
       "      <td>A shortlist of the biggest headlines, recommen...</td>\n",
       "      <td>Canada has informed India that security for Ai...</td>\n",
       "      <td>2023-11-10 03:28:47</td>\n",
       "      <td>https://www.hindustantimes.com/ht-img/img/2023...</td>\n",
       "      <td>hindustantimes</td>\n",
       "      <td>933</td>\n",
       "      <td>[india]</td>\n",
       "      <td>[top]</td>\n",
       "      <td>english</td>\n",
       "    </tr>\n",
       "    <tr>\n",
       "      <th>2</th>\n",
       "      <td>823c11ce65478810d0f7f22484eafe8f</td>\n",
       "      <td>Two Pixar greats headlined DigiCon 2023 and ma...</td>\n",
       "      <td>https://www.rappler.com/brandrap/pixar-films-f...</td>\n",
       "      <td>None</td>\n",
       "      <td>[Saab Lariosa]</td>\n",
       "      <td>None</td>\n",
       "      <td>Did you know a Filipino worked on the storyboa...</td>\n",
       "      <td>What do you get when you put two Gen Zs in a r...</td>\n",
       "      <td>2023-11-10 02:53:12</td>\n",
       "      <td>None</td>\n",
       "      <td>rappler</td>\n",
       "      <td>14296</td>\n",
       "      <td>[philippines]</td>\n",
       "      <td>[sports]</td>\n",
       "      <td>english</td>\n",
       "    </tr>\n",
       "    <tr>\n",
       "      <th>3</th>\n",
       "      <td>72ee6bd0734229ee84c637f47544b0d4</td>\n",
       "      <td>US approves first vaccine against chikungunya ...</td>\n",
       "      <td>https://economictimes.indiatimes.com/news/inte...</td>\n",
       "      <td>None</td>\n",
       "      <td>None</td>\n",
       "      <td>None</td>\n",
       "      <td>The vaccine, developed by Europe's Valneva whi...</td>\n",
       "      <td>Synopsis The vaccine, developed by Europe's Va...</td>\n",
       "      <td>2023-11-10 02:37:12</td>\n",
       "      <td>None</td>\n",
       "      <td>economictimes_indiatimes</td>\n",
       "      <td>376</td>\n",
       "      <td>[india]</td>\n",
       "      <td>[top]</td>\n",
       "      <td>english</td>\n",
       "    </tr>\n",
       "    <tr>\n",
       "      <th>4</th>\n",
       "      <td>caa872007cba9fccee27f917dbc13546</td>\n",
       "      <td>Hollywood actors secure safeguards around AI u...</td>\n",
       "      <td>https://economictimes.indiatimes.com/news/inte...</td>\n",
       "      <td>None</td>\n",
       "      <td>None</td>\n",
       "      <td>None</td>\n",
       "      <td>Actors secured these new safeguards as part of...</td>\n",
       "      <td>Synopsis Actors secured these new safeguards a...</td>\n",
       "      <td>2023-11-10 02:34:18</td>\n",
       "      <td>None</td>\n",
       "      <td>economictimes_indiatimes</td>\n",
       "      <td>376</td>\n",
       "      <td>[india]</td>\n",
       "      <td>[top]</td>\n",
       "      <td>english</td>\n",
       "    </tr>\n",
       "  </tbody>\n",
       "</table>\n",
       "</div>"
      ],
      "text/plain": [
       "                         article_id  \\\n",
       "0  fea5a41568cef6a39596e86bdc88650e   \n",
       "1  5efa82f63c8e98e4e739183a56542b0a   \n",
       "2  823c11ce65478810d0f7f22484eafe8f   \n",
       "3  72ee6bd0734229ee84c637f47544b0d4   \n",
       "4  caa872007cba9fccee27f917dbc13546   \n",
       "\n",
       "                                               title  \\\n",
       "0  Harry Styles fans mourn his beloved curls afte...   \n",
       "1  Morning brief: Canada enhances Air India secur...   \n",
       "2  Two Pixar greats headlined DigiCon 2023 and ma...   \n",
       "3  US approves first vaccine against chikungunya ...   \n",
       "4  Hollywood actors secure safeguards around AI u...   \n",
       "\n",
       "                                                link keywords         creator  \\\n",
       "0  https://www.dailymail.co.uk/tvshowbiz/article-...     None            None   \n",
       "1  https://www.hindustantimes.com/india-news/morn...     None            None   \n",
       "2  https://www.rappler.com/brandrap/pixar-films-f...     None  [Saab Lariosa]   \n",
       "3  https://economictimes.indiatimes.com/news/inte...     None            None   \n",
       "4  https://economictimes.indiatimes.com/news/inte...     None            None   \n",
       "\n",
       "  video_url                                        description  \\\n",
       "0      None  Harry Styles looked completely unrecognizable ...   \n",
       "1      None  A shortlist of the biggest headlines, recommen...   \n",
       "2      None  Did you know a Filipino worked on the storyboa...   \n",
       "3      None  The vaccine, developed by Europe's Valneva whi...   \n",
       "4      None  Actors secured these new safeguards as part of...   \n",
       "\n",
       "                                             content              pubDate  \\\n",
       "0  Harry Styles fans mourn his beloved curls afte...  2023-11-10 03:31:49   \n",
       "1  Canada has informed India that security for Ai...  2023-11-10 03:28:47   \n",
       "2  What do you get when you put two Gen Zs in a r...  2023-11-10 02:53:12   \n",
       "3  Synopsis The vaccine, developed by Europe's Va...  2023-11-10 02:37:12   \n",
       "4  Synopsis Actors secured these new safeguards a...  2023-11-10 02:34:18   \n",
       "\n",
       "                                           image_url  \\\n",
       "0  https://i.dailymail.co.uk/1s/2023/11/10/00/776...   \n",
       "1  https://www.hindustantimes.com/ht-img/img/2023...   \n",
       "2                                               None   \n",
       "3                                               None   \n",
       "4                                               None   \n",
       "\n",
       "                  source_id  source_priority           country  \\\n",
       "0               dailymailuk              135  [united kingdom]   \n",
       "1            hindustantimes              933           [india]   \n",
       "2                   rappler            14296     [philippines]   \n",
       "3  economictimes_indiatimes              376           [india]   \n",
       "4  economictimes_indiatimes              376           [india]   \n",
       "\n",
       "          category language  \n",
       "0  [entertainment]  english  \n",
       "1            [top]  english  \n",
       "2         [sports]  english  \n",
       "3            [top]  english  \n",
       "4            [top]  english  "
      ]
     },
     "execution_count": 38,
     "metadata": {},
     "output_type": "execute_result"
    }
   ],
   "source": [
    "# Assuming the JSON data is a list of dictionaries\n",
    "df = pd.DataFrame(news)\n",
    "df.head()\n"
   ]
  },
  {
   "cell_type": "markdown",
   "id": "ce6fec0d",
   "metadata": {
    "id": "ce6fec0d"
   },
   "source": [
    "## Step 5: Basic Data Analysis\n",
    "We will perform some basic analysis on the data using Pandas. For example:\n",
    "\n",
    "Check the structure of the data using df.head() and df.info().\n"
   ]
  },
  {
   "cell_type": "code",
   "execution_count": 39,
   "id": "2343e582",
   "metadata": {
    "ExecuteTime": {
     "end_time": "2023-11-10T05:02:28.092811Z",
     "start_time": "2023-11-10T05:02:28.075398Z"
    }
   },
   "outputs": [
    {
     "data": {
      "text/html": [
       "<div>\n",
       "<style scoped>\n",
       "    .dataframe tbody tr th:only-of-type {\n",
       "        vertical-align: middle;\n",
       "    }\n",
       "\n",
       "    .dataframe tbody tr th {\n",
       "        vertical-align: top;\n",
       "    }\n",
       "\n",
       "    .dataframe thead th {\n",
       "        text-align: right;\n",
       "    }\n",
       "</style>\n",
       "<table border=\"1\" class=\"dataframe\">\n",
       "  <thead>\n",
       "    <tr style=\"text-align: right;\">\n",
       "      <th></th>\n",
       "      <th>article_id</th>\n",
       "      <th>title</th>\n",
       "      <th>link</th>\n",
       "      <th>keywords</th>\n",
       "      <th>creator</th>\n",
       "      <th>video_url</th>\n",
       "      <th>description</th>\n",
       "      <th>content</th>\n",
       "      <th>pubDate</th>\n",
       "      <th>image_url</th>\n",
       "      <th>source_id</th>\n",
       "      <th>source_priority</th>\n",
       "      <th>country</th>\n",
       "      <th>category</th>\n",
       "      <th>language</th>\n",
       "    </tr>\n",
       "  </thead>\n",
       "  <tbody>\n",
       "    <tr>\n",
       "      <th>0</th>\n",
       "      <td>fea5a41568cef6a39596e86bdc88650e</td>\n",
       "      <td>Harry Styles fans mourn his beloved curls afte...</td>\n",
       "      <td>https://www.dailymail.co.uk/tvshowbiz/article-...</td>\n",
       "      <td>None</td>\n",
       "      <td>None</td>\n",
       "      <td>None</td>\n",
       "      <td>Harry Styles looked completely unrecognizable ...</td>\n",
       "      <td>Harry Styles fans mourn his beloved curls afte...</td>\n",
       "      <td>2023-11-10 03:31:49</td>\n",
       "      <td>https://i.dailymail.co.uk/1s/2023/11/10/00/776...</td>\n",
       "      <td>dailymailuk</td>\n",
       "      <td>135</td>\n",
       "      <td>[united kingdom]</td>\n",
       "      <td>[entertainment]</td>\n",
       "      <td>english</td>\n",
       "    </tr>\n",
       "    <tr>\n",
       "      <th>1</th>\n",
       "      <td>5efa82f63c8e98e4e739183a56542b0a</td>\n",
       "      <td>Morning brief: Canada enhances Air India secur...</td>\n",
       "      <td>https://www.hindustantimes.com/india-news/morn...</td>\n",
       "      <td>None</td>\n",
       "      <td>None</td>\n",
       "      <td>None</td>\n",
       "      <td>A shortlist of the biggest headlines, recommen...</td>\n",
       "      <td>Canada has informed India that security for Ai...</td>\n",
       "      <td>2023-11-10 03:28:47</td>\n",
       "      <td>https://www.hindustantimes.com/ht-img/img/2023...</td>\n",
       "      <td>hindustantimes</td>\n",
       "      <td>933</td>\n",
       "      <td>[india]</td>\n",
       "      <td>[top]</td>\n",
       "      <td>english</td>\n",
       "    </tr>\n",
       "    <tr>\n",
       "      <th>2</th>\n",
       "      <td>823c11ce65478810d0f7f22484eafe8f</td>\n",
       "      <td>Two Pixar greats headlined DigiCon 2023 and ma...</td>\n",
       "      <td>https://www.rappler.com/brandrap/pixar-films-f...</td>\n",
       "      <td>None</td>\n",
       "      <td>[Saab Lariosa]</td>\n",
       "      <td>None</td>\n",
       "      <td>Did you know a Filipino worked on the storyboa...</td>\n",
       "      <td>What do you get when you put two Gen Zs in a r...</td>\n",
       "      <td>2023-11-10 02:53:12</td>\n",
       "      <td>None</td>\n",
       "      <td>rappler</td>\n",
       "      <td>14296</td>\n",
       "      <td>[philippines]</td>\n",
       "      <td>[sports]</td>\n",
       "      <td>english</td>\n",
       "    </tr>\n",
       "    <tr>\n",
       "      <th>3</th>\n",
       "      <td>72ee6bd0734229ee84c637f47544b0d4</td>\n",
       "      <td>US approves first vaccine against chikungunya ...</td>\n",
       "      <td>https://economictimes.indiatimes.com/news/inte...</td>\n",
       "      <td>None</td>\n",
       "      <td>None</td>\n",
       "      <td>None</td>\n",
       "      <td>The vaccine, developed by Europe's Valneva whi...</td>\n",
       "      <td>Synopsis The vaccine, developed by Europe's Va...</td>\n",
       "      <td>2023-11-10 02:37:12</td>\n",
       "      <td>None</td>\n",
       "      <td>economictimes_indiatimes</td>\n",
       "      <td>376</td>\n",
       "      <td>[india]</td>\n",
       "      <td>[top]</td>\n",
       "      <td>english</td>\n",
       "    </tr>\n",
       "    <tr>\n",
       "      <th>4</th>\n",
       "      <td>caa872007cba9fccee27f917dbc13546</td>\n",
       "      <td>Hollywood actors secure safeguards around AI u...</td>\n",
       "      <td>https://economictimes.indiatimes.com/news/inte...</td>\n",
       "      <td>None</td>\n",
       "      <td>None</td>\n",
       "      <td>None</td>\n",
       "      <td>Actors secured these new safeguards as part of...</td>\n",
       "      <td>Synopsis Actors secured these new safeguards a...</td>\n",
       "      <td>2023-11-10 02:34:18</td>\n",
       "      <td>None</td>\n",
       "      <td>economictimes_indiatimes</td>\n",
       "      <td>376</td>\n",
       "      <td>[india]</td>\n",
       "      <td>[top]</td>\n",
       "      <td>english</td>\n",
       "    </tr>\n",
       "  </tbody>\n",
       "</table>\n",
       "</div>"
      ],
      "text/plain": [
       "                         article_id  \\\n",
       "0  fea5a41568cef6a39596e86bdc88650e   \n",
       "1  5efa82f63c8e98e4e739183a56542b0a   \n",
       "2  823c11ce65478810d0f7f22484eafe8f   \n",
       "3  72ee6bd0734229ee84c637f47544b0d4   \n",
       "4  caa872007cba9fccee27f917dbc13546   \n",
       "\n",
       "                                               title  \\\n",
       "0  Harry Styles fans mourn his beloved curls afte...   \n",
       "1  Morning brief: Canada enhances Air India secur...   \n",
       "2  Two Pixar greats headlined DigiCon 2023 and ma...   \n",
       "3  US approves first vaccine against chikungunya ...   \n",
       "4  Hollywood actors secure safeguards around AI u...   \n",
       "\n",
       "                                                link keywords         creator  \\\n",
       "0  https://www.dailymail.co.uk/tvshowbiz/article-...     None            None   \n",
       "1  https://www.hindustantimes.com/india-news/morn...     None            None   \n",
       "2  https://www.rappler.com/brandrap/pixar-films-f...     None  [Saab Lariosa]   \n",
       "3  https://economictimes.indiatimes.com/news/inte...     None            None   \n",
       "4  https://economictimes.indiatimes.com/news/inte...     None            None   \n",
       "\n",
       "  video_url                                        description  \\\n",
       "0      None  Harry Styles looked completely unrecognizable ...   \n",
       "1      None  A shortlist of the biggest headlines, recommen...   \n",
       "2      None  Did you know a Filipino worked on the storyboa...   \n",
       "3      None  The vaccine, developed by Europe's Valneva whi...   \n",
       "4      None  Actors secured these new safeguards as part of...   \n",
       "\n",
       "                                             content              pubDate  \\\n",
       "0  Harry Styles fans mourn his beloved curls afte...  2023-11-10 03:31:49   \n",
       "1  Canada has informed India that security for Ai...  2023-11-10 03:28:47   \n",
       "2  What do you get when you put two Gen Zs in a r...  2023-11-10 02:53:12   \n",
       "3  Synopsis The vaccine, developed by Europe's Va...  2023-11-10 02:37:12   \n",
       "4  Synopsis Actors secured these new safeguards a...  2023-11-10 02:34:18   \n",
       "\n",
       "                                           image_url  \\\n",
       "0  https://i.dailymail.co.uk/1s/2023/11/10/00/776...   \n",
       "1  https://www.hindustantimes.com/ht-img/img/2023...   \n",
       "2                                               None   \n",
       "3                                               None   \n",
       "4                                               None   \n",
       "\n",
       "                  source_id  source_priority           country  \\\n",
       "0               dailymailuk              135  [united kingdom]   \n",
       "1            hindustantimes              933           [india]   \n",
       "2                   rappler            14296     [philippines]   \n",
       "3  economictimes_indiatimes              376           [india]   \n",
       "4  economictimes_indiatimes              376           [india]   \n",
       "\n",
       "          category language  \n",
       "0  [entertainment]  english  \n",
       "1            [top]  english  \n",
       "2         [sports]  english  \n",
       "3            [top]  english  \n",
       "4            [top]  english  "
      ]
     },
     "execution_count": 39,
     "metadata": {},
     "output_type": "execute_result"
    }
   ],
   "source": [
    "# See the first 5 row of the data structure\n",
    "df.head()"
   ]
  },
  {
   "cell_type": "code",
   "execution_count": 41,
   "id": "5bf1a87d",
   "metadata": {
    "ExecuteTime": {
     "end_time": "2023-11-10T05:03:07.364783Z",
     "start_time": "2023-11-10T05:03:07.346707Z"
    }
   },
   "outputs": [
    {
     "name": "stdout",
     "output_type": "stream",
     "text": [
      "<class 'pandas.core.frame.DataFrame'>\n",
      "RangeIndex: 10 entries, 0 to 9\n",
      "Data columns (total 15 columns):\n",
      " #   Column           Non-Null Count  Dtype \n",
      "---  ------           --------------  ----- \n",
      " 0   article_id       10 non-null     object\n",
      " 1   title            10 non-null     object\n",
      " 2   link             10 non-null     object\n",
      " 3   keywords         1 non-null      object\n",
      " 4   creator          2 non-null      object\n",
      " 5   video_url        0 non-null      object\n",
      " 6   description      10 non-null     object\n",
      " 7   content          10 non-null     object\n",
      " 8   pubDate          10 non-null     object\n",
      " 9   image_url        5 non-null      object\n",
      " 10  source_id        10 non-null     object\n",
      " 11  source_priority  10 non-null     int64 \n",
      " 12  country          10 non-null     object\n",
      " 13  category         10 non-null     object\n",
      " 14  language         10 non-null     object\n",
      "dtypes: int64(1), object(14)\n",
      "memory usage: 1.3+ KB\n"
     ]
    }
   ],
   "source": [
    "# Check the data information\n",
    "df.info()"
   ]
  },
  {
   "cell_type": "markdown",
   "id": "fd506b33",
   "metadata": {},
   "source": [
    "From dataframe information we have found 15 columns, 10 rows, 4 columns has null values, only on integer variable and others are object although its not reality."
   ]
  },
  {
   "cell_type": "code",
   "execution_count": 44,
   "id": "f66f9f3c",
   "metadata": {
    "ExecuteTime": {
     "end_time": "2023-11-10T05:09:36.853644Z",
     "start_time": "2023-11-10T05:09:36.846723Z"
    }
   },
   "outputs": [
    {
     "data": {
      "text/plain": [
       "article_id         object\n",
       "title              object\n",
       "link               object\n",
       "keywords           object\n",
       "creator            object\n",
       "video_url          object\n",
       "description        object\n",
       "content            object\n",
       "pubDate            object\n",
       "image_url          object\n",
       "source_id          object\n",
       "source_priority     int64\n",
       "country            object\n",
       "category           object\n",
       "language           object\n",
       "dtype: object"
      ]
     },
     "execution_count": 44,
     "metadata": {},
     "output_type": "execute_result"
    }
   ],
   "source": [
    "# See the data types of each variable\n",
    "df.dtypes"
   ]
  },
  {
   "cell_type": "markdown",
   "id": "3eaa6ff8",
   "metadata": {
    "id": "9369a2b3"
   },
   "source": [
    "# Summary: \n",
    "This is one more great project assigned by Professor James Topor. Its challenging but interesting to learn new skills in my career. It was fun to learn text data analysis, extraction from web through API, python beautiful soup library, request library. During this project I faced difficulties in text extraction, regex specially for data cleaning. \n",
    "I am so grateful to my professor to give that opportunity to develop my skills though this task. \n",
    "I enjoyed and expect more from him in future more project. \n",
    "\n"
   ]
  },
  {
   "cell_type": "code",
   "execution_count": null,
   "id": "93e6911f",
   "metadata": {},
   "outputs": [],
   "source": []
  }
 ],
 "metadata": {
  "colab": {
   "provenance": []
  },
  "kernelspec": {
   "display_name": "Python 3 (ipykernel)",
   "language": "python",
   "name": "python3"
  },
  "language_info": {
   "codemirror_mode": {
    "name": "ipython",
    "version": 3
   },
   "file_extension": ".py",
   "mimetype": "text/x-python",
   "name": "python",
   "nbconvert_exporter": "python",
   "pygments_lexer": "ipython3",
   "version": "3.11.4"
  },
  "varInspector": {
   "cols": {
    "lenName": 16,
    "lenType": 16,
    "lenVar": 40
   },
   "kernels_config": {
    "python": {
     "delete_cmd_postfix": "",
     "delete_cmd_prefix": "del ",
     "library": "var_list.py",
     "varRefreshCmd": "print(var_dic_list())"
    },
    "r": {
     "delete_cmd_postfix": ") ",
     "delete_cmd_prefix": "rm(",
     "library": "var_list.r",
     "varRefreshCmd": "cat(var_dic_list()) "
    }
   },
   "types_to_exclude": [
    "module",
    "function",
    "builtin_function_or_method",
    "instance",
    "_Feature"
   ],
   "window_display": false
  }
 },
 "nbformat": 4,
 "nbformat_minor": 5
}
