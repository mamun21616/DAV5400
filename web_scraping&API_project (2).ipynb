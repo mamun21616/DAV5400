{
 "cells": [
  {
   "cell_type": "markdown",
   "id": "e16b72fd",
   "metadata": {
    "id": "e16b72fd"
   },
   "source": [
    "# Part 1 : Working with HTML and JSON"
   ]
  },
  {
   "cell_type": "markdown",
   "id": "9786371b",
   "metadata": {},
   "source": [
    "In this exercise \n",
    "a. I have created html file manually in my local machine which contains three albums from three different musicians, five songs from each album and album releasing year. \n",
    "\n",
    "b. I have also then created json file manually with same data in html file.\n",
    "\n",
    "c. After creating these two files I have uploaded to my github repository. \n",
    "\n",
    "d. Then working in Jupyter notebook and loading these two files with python pandas library by using html reader and json reader function.\n",
    "\n",
    "e. Then we can see the printed result as dataframe. \n",
    "\n",
    "f. Finally after having dataframe will compare as they are identical or not?\n"
   ]
  },
  {
   "cell_type": "markdown",
   "id": "fb806e0b",
   "metadata": {},
   "source": [
    "__Importing panda library to make the dataframe from the json and html files__\n"
   ]
  },
  {
   "cell_type": "code",
   "execution_count": 1,
   "id": "d2d6ad42",
   "metadata": {
    "ExecuteTime": {
     "end_time": "2023-11-12T20:17:41.027305Z",
     "start_time": "2023-11-12T20:17:40.458715Z"
    },
    "id": "d2d6ad42"
   },
   "outputs": [],
   "source": [
    "# import panda library to load the data\n",
    "import pandas as pd"
   ]
  },
  {
   "cell_type": "code",
   "execution_count": 2,
   "id": "4fb0e0f8",
   "metadata": {
    "ExecuteTime": {
     "end_time": "2023-11-12T20:17:41.392064Z",
     "start_time": "2023-11-12T20:17:41.029349Z"
    },
    "colab": {
     "base_uri": "https://localhost:8080/",
     "height": 143
    },
    "id": "4fb0e0f8",
    "outputId": "7d5d56d8-ebbd-466c-e6ea-c942e906b2a9"
   },
   "outputs": [
    {
     "data": {
      "text/html": [
       "<div>\n",
       "<style scoped>\n",
       "    .dataframe tbody tr th:only-of-type {\n",
       "        vertical-align: middle;\n",
       "    }\n",
       "\n",
       "    .dataframe tbody tr th {\n",
       "        vertical-align: top;\n",
       "    }\n",
       "\n",
       "    .dataframe thead th {\n",
       "        text-align: right;\n",
       "    }\n",
       "</style>\n",
       "<table border=\"1\" class=\"dataframe\">\n",
       "  <thead>\n",
       "    <tr style=\"text-align: right;\">\n",
       "      <th></th>\n",
       "      <th>Album Title</th>\n",
       "      <th>Artist</th>\n",
       "      <th>Year</th>\n",
       "      <th>Tracks</th>\n",
       "    </tr>\n",
       "  </thead>\n",
       "  <tbody>\n",
       "    <tr>\n",
       "      <th>0</th>\n",
       "      <td>Abbey Road</td>\n",
       "      <td>The Beatles</td>\n",
       "      <td>1969</td>\n",
       "      <td>Come Together, Something, Maxwell's Silver Ham...</td>\n",
       "    </tr>\n",
       "    <tr>\n",
       "      <th>1</th>\n",
       "      <td>Thriller</td>\n",
       "      <td>Michael Jackson</td>\n",
       "      <td>1982</td>\n",
       "      <td>Wanna Be Startin' Somethin', Baby Be Mine, The...</td>\n",
       "    </tr>\n",
       "    <tr>\n",
       "      <th>2</th>\n",
       "      <td>Back in Black</td>\n",
       "      <td>AC/DC</td>\n",
       "      <td>1980</td>\n",
       "      <td>Hells Bells, Shoot to Thrill, What Do You Do f...</td>\n",
       "    </tr>\n",
       "  </tbody>\n",
       "</table>\n",
       "</div>"
      ],
      "text/plain": [
       "     Album Title           Artist  Year  \\\n",
       "0     Abbey Road      The Beatles  1969   \n",
       "1       Thriller  Michael Jackson  1982   \n",
       "2  Back in Black            AC/DC  1980   \n",
       "\n",
       "                                              Tracks  \n",
       "0  Come Together, Something, Maxwell's Silver Ham...  \n",
       "1  Wanna Be Startin' Somethin', Baby Be Mine, The...  \n",
       "2  Hells Bells, Shoot to Thrill, What Do You Do f...  "
      ]
     },
     "execution_count": 2,
     "metadata": {},
     "output_type": "execute_result"
    }
   ],
   "source": [
    "# Load data from HTML file into a Pandas DataFrame from github\n",
    "html_df = pd.read_html(\"https://raw.githubusercontent.com/mamun21616/DAV5400/main/albums.html\")[0]\n",
    "html_df"
   ]
  },
  {
   "cell_type": "markdown",
   "id": "7cd405fd",
   "metadata": {},
   "source": [
    "From read_html method we have found a dataframe of album title, artist, year and tracks(songs) as column name and have 3 rows. we can try to get some column values like the following way. "
   ]
  },
  {
   "cell_type": "code",
   "execution_count": 3,
   "id": "3ba49f11",
   "metadata": {
    "ExecuteTime": {
     "end_time": "2023-11-12T20:17:41.402668Z",
     "start_time": "2023-11-12T20:17:41.394078Z"
    }
   },
   "outputs": [
    {
     "data": {
      "text/plain": [
       "0        The Beatles\n",
       "1    Michael Jackson\n",
       "2              AC/DC\n",
       "Name: Artist, dtype: object"
      ]
     },
     "execution_count": 3,
     "metadata": {},
     "output_type": "execute_result"
    }
   ],
   "source": [
    "# view the artist name of album\n",
    "html_df.Artist"
   ]
  },
  {
   "cell_type": "code",
   "execution_count": 4,
   "id": "406b25fa",
   "metadata": {
    "ExecuteTime": {
     "end_time": "2023-11-12T20:17:41.412356Z",
     "start_time": "2023-11-12T20:17:41.405680Z"
    }
   },
   "outputs": [
    {
     "data": {
      "text/plain": [
       "0    Come Together, Something, Maxwell's Silver Ham...\n",
       "1    Wanna Be Startin' Somethin', Baby Be Mine, The...\n",
       "2    Hells Bells, Shoot to Thrill, What Do You Do f...\n",
       "Name: Tracks, dtype: object"
      ]
     },
     "execution_count": 4,
     "metadata": {},
     "output_type": "execute_result"
    }
   ],
   "source": [
    "# Show the songs from Tracks column\n",
    "html_df.Tracks"
   ]
  },
  {
   "cell_type": "code",
   "execution_count": 5,
   "id": "20245bdc",
   "metadata": {
    "ExecuteTime": {
     "end_time": "2023-11-12T20:17:41.576033Z",
     "start_time": "2023-11-12T20:17:41.414373Z"
    },
    "colab": {
     "base_uri": "https://localhost:8080/",
     "height": 143
    },
    "id": "20245bdc",
    "outputId": "a96a3aae-af89-4076-c5a1-9562b1a44d03"
   },
   "outputs": [
    {
     "data": {
      "text/html": [
       "<div>\n",
       "<style scoped>\n",
       "    .dataframe tbody tr th:only-of-type {\n",
       "        vertical-align: middle;\n",
       "    }\n",
       "\n",
       "    .dataframe tbody tr th {\n",
       "        vertical-align: top;\n",
       "    }\n",
       "\n",
       "    .dataframe thead th {\n",
       "        text-align: right;\n",
       "    }\n",
       "</style>\n",
       "<table border=\"1\" class=\"dataframe\">\n",
       "  <thead>\n",
       "    <tr style=\"text-align: right;\">\n",
       "      <th></th>\n",
       "      <th>albums</th>\n",
       "    </tr>\n",
       "  </thead>\n",
       "  <tbody>\n",
       "    <tr>\n",
       "      <th>0</th>\n",
       "      <td>{'Album Title': 'Abbey Road', 'Artist': 'The B...</td>\n",
       "    </tr>\n",
       "    <tr>\n",
       "      <th>1</th>\n",
       "      <td>{'Album Title': 'Thriller', 'Artist': 'Michael...</td>\n",
       "    </tr>\n",
       "    <tr>\n",
       "      <th>2</th>\n",
       "      <td>{'Album Title': 'Back in Black', 'Artist': 'AC...</td>\n",
       "    </tr>\n",
       "  </tbody>\n",
       "</table>\n",
       "</div>"
      ],
      "text/plain": [
       "                                              albums\n",
       "0  {'Album Title': 'Abbey Road', 'Artist': 'The B...\n",
       "1  {'Album Title': 'Thriller', 'Artist': 'Michael...\n",
       "2  {'Album Title': 'Back in Black', 'Artist': 'AC..."
      ]
     },
     "execution_count": 5,
     "metadata": {},
     "output_type": "execute_result"
    }
   ],
   "source": [
    "# Load data from JSON file into a Pandas DataFrame from github\n",
    "json_df = pd.read_json(\"https://raw.githubusercontent.com/mamun21616/DAV5400/main/albums.json\")\n",
    "json_df"
   ]
  },
  {
   "cell_type": "markdown",
   "id": "bc663796",
   "metadata": {},
   "source": [
    "After loading albums.json file with pd.read_json method, a dataframe is created where only one column name albums and 3 rows. These rows are in dictionary format where specifies album title, artist, year, songs. We can get the key value from the albums column."
   ]
  },
  {
   "cell_type": "code",
   "execution_count": 6,
   "id": "e16491a8",
   "metadata": {
    "ExecuteTime": {
     "end_time": "2023-11-12T20:17:41.587512Z",
     "start_time": "2023-11-12T20:17:41.579050Z"
    }
   },
   "outputs": [
    {
     "data": {
      "text/plain": [
       "0       Abbey Road\n",
       "1         Thriller\n",
       "2    Back in Black\n",
       "Name: albums, dtype: object"
      ]
     },
     "execution_count": 6,
     "metadata": {},
     "output_type": "execute_result"
    }
   ],
   "source": [
    "# Extract 'Album Title' from the dictionaries in the 'albums' column\n",
    "json_df['albums'].apply(lambda x: x['Album Title'])"
   ]
  },
  {
   "cell_type": "code",
   "execution_count": 7,
   "id": "76951bf2",
   "metadata": {
    "ExecuteTime": {
     "end_time": "2023-11-12T20:17:41.597777Z",
     "start_time": "2023-11-12T20:17:41.589582Z"
    }
   },
   "outputs": [
    {
     "data": {
      "text/plain": [
       "0    [Come Together, Something, Maxwell's Silver Ha...\n",
       "1    [Wanna Be Startin' Somethin', Baby Be Mine, Th...\n",
       "2    [Hells Bells, Shoot to Thrill, What Do You Do ...\n",
       "Name: albums, dtype: object"
      ]
     },
     "execution_count": 7,
     "metadata": {},
     "output_type": "execute_result"
    }
   ],
   "source": [
    "# Extract 'songs' from the dictionaries in the 'albums' column\n",
    "json_df['albums'].apply(lambda x: x['Tracks'])"
   ]
  },
  {
   "cell_type": "markdown",
   "id": "6536e6d6",
   "metadata": {},
   "source": [
    "__Checking the two dataframes are identical or not using equals method__"
   ]
  },
  {
   "cell_type": "code",
   "execution_count": 8,
   "id": "d66f2cf6",
   "metadata": {
    "ExecuteTime": {
     "end_time": "2023-11-12T20:17:41.604553Z",
     "start_time": "2023-11-12T20:17:41.599790Z"
    },
    "colab": {
     "base_uri": "https://localhost:8080/"
    },
    "id": "c268e148",
    "outputId": "2b2e6353-0d44-4bb5-e226-358b1ef15dd7"
   },
   "outputs": [
    {
     "name": "stdout",
     "output_type": "stream",
     "text": [
      "Are the two DataFrames identical? False\n"
     ]
    }
   ],
   "source": [
    "# Check if the two DataFrames are identical\n",
    "identical = html_df.equals(json_df)\n",
    "print(\"Are the two DataFrames identical?\", identical)"
   ]
  },
  {
   "cell_type": "markdown",
   "id": "1888a91f",
   "metadata": {},
   "source": [
    "NO, the dataframes are not identical, they are different in structure."
   ]
  },
  {
   "cell_type": "markdown",
   "id": "a28abca6",
   "metadata": {},
   "source": [
    "# Part 2 : Scraping the Katz School’s “Staff” Web Page\n",
    "\n",
    "To complete this web scraping part have to follow some steps. I have followed here multiple steps.\n",
    "- Collected the data from the [website](https://www.yu.edu/katz/staff)\n",
    "- Used beautiful soup library to parse the web data to make dataframe about katz staff which containing columns like name, title, phone, email and ofiice of staffs.\n"
   ]
  },
  {
   "cell_type": "markdown",
   "id": "6e62287b",
   "metadata": {},
   "source": [
    "To continue for web scraping project some basic library needed. Some of them are installed here.\n",
    "Those are regular expression as re, request library for web url, beautiful soup for parsing web data."
   ]
  },
  {
   "cell_type": "code",
   "execution_count": 9,
   "id": "E_09JzPWU-4p",
   "metadata": {
    "ExecuteTime": {
     "end_time": "2023-11-12T20:17:41.689850Z",
     "start_time": "2023-11-12T20:17:41.605566Z"
    },
    "id": "E_09JzPWU-4p"
   },
   "outputs": [],
   "source": [
    "# Import necessary libraries for web data scrape\n",
    "import re\n",
    "import requests\n",
    "from bs4 import BeautifulSoup"
   ]
  },
  {
   "cell_type": "code",
   "execution_count": 10,
   "id": "14ebd668",
   "metadata": {
    "ExecuteTime": {
     "end_time": "2023-11-12T20:17:41.773905Z",
     "start_time": "2023-11-12T20:17:41.692856Z"
    }
   },
   "outputs": [],
   "source": [
    "# Web page url for katz staff\n",
    "url = \"https://www.yu.edu/katz/staff\"\n",
    "# Fetching the url by request.get method to load the data in a varibale name response. \n",
    "response = requests.get(url)"
   ]
  },
  {
   "cell_type": "code",
   "execution_count": 11,
   "id": "5b072b3c",
   "metadata": {
    "ExecuteTime": {
     "end_time": "2023-11-12T20:17:41.781090Z",
     "start_time": "2023-11-12T20:17:41.775941Z"
    }
   },
   "outputs": [
    {
     "data": {
      "text/plain": [
       "200"
      ]
     },
     "execution_count": 11,
     "metadata": {},
     "output_type": "execute_result"
    }
   ],
   "source": [
    "# # Check if the request was successful (status code 200)\n",
    "response.status_code"
   ]
  },
  {
   "cell_type": "code",
   "execution_count": 12,
   "id": "S0xz0-X-U_v7",
   "metadata": {
    "ExecuteTime": {
     "end_time": "2023-11-12T20:17:41.819808Z",
     "start_time": "2023-11-12T20:17:41.783104Z"
    },
    "id": "S0xz0-X-U_v7"
   },
   "outputs": [],
   "source": [
    "# Parse the HTML content of the page using BeautifulSoup\n",
    "soup = BeautifulSoup(response.content,'html.parser')"
   ]
  },
  {
   "cell_type": "code",
   "execution_count": 13,
   "id": "CiW2rc7RU_yV",
   "metadata": {
    "ExecuteTime": {
     "end_time": "2023-11-12T20:17:41.825835Z",
     "start_time": "2023-11-12T20:17:41.820856Z"
    },
    "colab": {
     "base_uri": "https://localhost:8080/"
    },
    "id": "CiW2rc7RU_yV",
    "outputId": "618f10c8-f6ad-4b80-cb75-df40fb51ce5f"
   },
   "outputs": [],
   "source": [
    "# Find the div with class \"text-only\"\n",
    "staff = soup.find_all('div',class_='text-only')"
   ]
  },
  {
   "cell_type": "code",
   "execution_count": 14,
   "id": "9a43c7fe",
   "metadata": {
    "ExecuteTime": {
     "end_time": "2023-11-12T20:17:41.832840Z",
     "start_time": "2023-11-12T20:17:41.826842Z"
    }
   },
   "outputs": [
    {
     "data": {
      "text/plain": [
       "[<div class=\"text-only\">\n",
       " <div class=\"field field--name-field-paragraph-body\"><h3>Office of the Dean </h3>\n",
       " <p>Paul Russo, Vice Provost and Dean <br/>\n",
       " Professor of Data Science<br/><a href=\"/faculty/pages/russo-paul\">Read Dr. Russo's Biography</a> </p>\n",
       " <p>Aaron Ross, Assistant Dean for Academic Programs and Deputy to the Dean <br/><a href=\"mailto:Aaron.Ross2@yu.edu\">aaron.ross2@yu.edu</a> | 646-592-4148  <br/>\n",
       "  <br/>\n",
       " Sofia Binioris, Director of Communications and Strategic Initiatives<br/><a href=\"mailto:Sofia.Binioris@yu.edu\">sofia.binioris@yu.edu</a> | 645-592-4719</p>\n",
       " <p>Jackie Hamilton, Executive Director of Enrollment Management and Partnerships<br/><a href=\"mailto:jackie.hamilton@yu.edu\">jackie.hamilton@yu.edu</a> I 646-787-6194</p>\n",
       " <p>Pamela Rodman, Director of Finance and Administration<br/><a href=\"mailto:pamela.rodman@yu.edu\">pamela.rodman@yu.edu</a> I 646.592.4777</p>\n",
       " <p>Tabitha Collazo, Business and Operations Coordinator<br/><a href=\"mailto:tabitha.collazo@yu.edu\">tabitha.collazo@yu.edu</a> | 646-592-4735</p>\n",
       " <p>Ann Leary, <span style='font-size:12.0pt;\n",
       " mso-fareast-font-family:\"Times New Roman\";color:black'>Office Manager/Executive Assistant to the Dean's Office</span><br/><a href=\"mailto:ann.leary@yu.edu\">ann.leary@yu.edu</a> | 646-592-4724</p>\n",
       " <p> </p>\n",
       " <h3>Graduate Admissions</h3>\n",
       " <p>Jared Hakimi, Director<br/><a href=\"mailto:jared.hakimi@yu.edu\">jared.hakimi@yu.edu</a> | 646-592-4722 | <a href=\"https://go.yu.edu/meetings/jared-hakimi?_ga=2.135529905.1027554153.1643634144-1633120133.1643634142\">Schedule an Appointment</a></p>\n",
       " <p>Xavier Velasquez, Associate Director of Graduate Admissions Operations<br/><a href=\"mailto:xavier.velasquez@yu.edu\">xavier.velasquez@yu.edu</a> | 646-592-4737 | <a href=\"https://meetings.hubspot.com/xavier-velasquez?__hstc=56700149.5db5eded2ec4d880f347de3c9e3d599c.1643634145606.1643634145606.1643634145606.1&amp;__hssc=56700149.15.1643634145606&amp;__hsfp=26732394\">Schedule an Appointment</a></p>\n",
       " <p>Shayna Matzner, Assistant Director<br/><a data-auth=\"NotApplicable\" data-linkindex=\"1\" href=\"mailto:Shayna.matzner@yu.edu\" rel=\"noopener noreferrer\" target=\"_blank\">shayna.matzner@yu.edu</a> I 646-592-4726 I <a href=\"https://meetings.hubspot.com/shayna-matzner\" target=\"_blank\">Schedule an Appointment</a></p>\n",
       " <p>Linyu Zheng, Assistant Director<br/><a data-extlink=\"\" href=\"mailto:linyu.zheng@yu.edu\">linyu.zheng@yu.edu</a> I +1-332-271-5865 I <a data-extlink=\"\" href=\"https://meetings.hubspot.com/linyu?__hstc=56700149.b43e743c1ab61d02ba236e596c37e852.1683049744694.1683213755722.1683220006543.9&amp;__hssc=56700149.10.1683220006543&amp;__hsfp=1136147948\" rel=\"noopener\" target=\"_blank\">Schedule an Appointment</a></p>\n",
       " <p>Hyokyeong \"Kyeong\" Yu, International Student Advisor<br/><a href=\"mailto:hyokyeong.yu@yu.edu\">hyokyeong.yu@yu.edu</a> I 646-592-4736</p>\n",
       " <p> </p>\n",
       " <h3>Graduate Student Life</h3>\n",
       " <p>Rafael Reyes, Director of Graduate Student Life and Community Engagement<br/><a href=\"mailto:rafael.reyes@yu.edu\">rafael.reyes@yu.edu</a> I 646-592-4729</p>\n",
       " <p> </p>\n",
       " <h3>Academic Operations and Teaching and Learning</h3>\n",
       " <p>John Vivolo, Executive Director of Academic Operations and Teaching and Learning<br/><a href=\"mailto:john.vivolo@yu.edu\">john.vivolo@yu.edu</a> | 646-592-4743</p>\n",
       " <p>Nebahat Bayrakcioglu, Academic Program Coordinator, Physician Assistant Studies<br/><a href=\"mailto:nebahat.bayrakcioglu@yu.edu\">nebahat.bayrakcioglu@yu.edu</a> | 646-592-4034</p>\n",
       " <p>Gladys Davis, Academic Program Coordinator, Occupational Therapy<br/><a href=\"mailto:gladys.davis@yu.edu\">gladys.davis@yu.edu</a> | 646-592-4762</p>\n",
       " <p>Ariana Allias, Program Manager, STEM<br/><a href=\"mailto:ariana.allias@yu.edu\">ariana.allias@yu.edu</a> </p>\n",
       " <p>Lloyd Carew-Reid, Instructional Designer<br/><a href=\"mailto:Lloyd.Carewreid@yu.edu\">lloyd.carew-reid@yu.edu</a> | 646-592-4768</p>\n",
       " <p>Denton Field, Media Production Manager<br/><a href=\"mailto:denton.field@yu.edu\">denton.field@yu.edu</a></p>\n",
       " </div>\n",
       " </div>]"
      ]
     },
     "execution_count": 14,
     "metadata": {},
     "output_type": "execute_result"
    }
   ],
   "source": [
    "staff"
   ]
  },
  {
   "cell_type": "markdown",
   "id": "6c904e50",
   "metadata": {},
   "source": [
    "Within staff variable I have found all text data for staffs. Now look at the text for all paragraph in array format."
   ]
  },
  {
   "cell_type": "code",
   "execution_count": 15,
   "id": "rLbLZHrqU_0j",
   "metadata": {
    "ExecuteTime": {
     "end_time": "2023-11-12T20:17:41.839990Z",
     "start_time": "2023-11-12T20:17:41.834852Z"
    },
    "id": "rLbLZHrqU_0j"
   },
   "outputs": [
    {
     "data": {
      "text/plain": [
       "[<p>Paul Russo, Vice Provost and Dean <br/>\n",
       " Professor of Data Science<br/><a href=\"/faculty/pages/russo-paul\">Read Dr. Russo's Biography</a> </p>,\n",
       " <p>Aaron Ross, Assistant Dean for Academic Programs and Deputy to the Dean <br/><a href=\"mailto:Aaron.Ross2@yu.edu\">aaron.ross2@yu.edu</a> | 646-592-4148  <br/>\n",
       "  <br/>\n",
       " Sofia Binioris, Director of Communications and Strategic Initiatives<br/><a href=\"mailto:Sofia.Binioris@yu.edu\">sofia.binioris@yu.edu</a> | 645-592-4719</p>,\n",
       " <p>Jackie Hamilton, Executive Director of Enrollment Management and Partnerships<br/><a href=\"mailto:jackie.hamilton@yu.edu\">jackie.hamilton@yu.edu</a> I 646-787-6194</p>,\n",
       " <p>Pamela Rodman, Director of Finance and Administration<br/><a href=\"mailto:pamela.rodman@yu.edu\">pamela.rodman@yu.edu</a> I 646.592.4777</p>,\n",
       " <p>Tabitha Collazo, Business and Operations Coordinator<br/><a href=\"mailto:tabitha.collazo@yu.edu\">tabitha.collazo@yu.edu</a> | 646-592-4735</p>,\n",
       " <p>Ann Leary, <span style='font-size:12.0pt;\n",
       " mso-fareast-font-family:\"Times New Roman\";color:black'>Office Manager/Executive Assistant to the Dean's Office</span><br/><a href=\"mailto:ann.leary@yu.edu\">ann.leary@yu.edu</a> | 646-592-4724</p>,\n",
       " <p> </p>,\n",
       " <p>Jared Hakimi, Director<br/><a href=\"mailto:jared.hakimi@yu.edu\">jared.hakimi@yu.edu</a> | 646-592-4722 | <a href=\"https://go.yu.edu/meetings/jared-hakimi?_ga=2.135529905.1027554153.1643634144-1633120133.1643634142\">Schedule an Appointment</a></p>,\n",
       " <p>Xavier Velasquez, Associate Director of Graduate Admissions Operations<br/><a href=\"mailto:xavier.velasquez@yu.edu\">xavier.velasquez@yu.edu</a> | 646-592-4737 | <a href=\"https://meetings.hubspot.com/xavier-velasquez?__hstc=56700149.5db5eded2ec4d880f347de3c9e3d599c.1643634145606.1643634145606.1643634145606.1&amp;__hssc=56700149.15.1643634145606&amp;__hsfp=26732394\">Schedule an Appointment</a></p>,\n",
       " <p>Shayna Matzner, Assistant Director<br/><a data-auth=\"NotApplicable\" data-linkindex=\"1\" href=\"mailto:Shayna.matzner@yu.edu\" rel=\"noopener noreferrer\" target=\"_blank\">shayna.matzner@yu.edu</a> I 646-592-4726 I <a href=\"https://meetings.hubspot.com/shayna-matzner\" target=\"_blank\">Schedule an Appointment</a></p>,\n",
       " <p>Linyu Zheng, Assistant Director<br/><a data-extlink=\"\" href=\"mailto:linyu.zheng@yu.edu\">linyu.zheng@yu.edu</a> I +1-332-271-5865 I <a data-extlink=\"\" href=\"https://meetings.hubspot.com/linyu?__hstc=56700149.b43e743c1ab61d02ba236e596c37e852.1683049744694.1683213755722.1683220006543.9&amp;__hssc=56700149.10.1683220006543&amp;__hsfp=1136147948\" rel=\"noopener\" target=\"_blank\">Schedule an Appointment</a></p>,\n",
       " <p>Hyokyeong \"Kyeong\" Yu, International Student Advisor<br/><a href=\"mailto:hyokyeong.yu@yu.edu\">hyokyeong.yu@yu.edu</a> I 646-592-4736</p>,\n",
       " <p> </p>,\n",
       " <p>Rafael Reyes, Director of Graduate Student Life and Community Engagement<br/><a href=\"mailto:rafael.reyes@yu.edu\">rafael.reyes@yu.edu</a> I 646-592-4729</p>,\n",
       " <p> </p>,\n",
       " <p>John Vivolo, Executive Director of Academic Operations and Teaching and Learning<br/><a href=\"mailto:john.vivolo@yu.edu\">john.vivolo@yu.edu</a> | 646-592-4743</p>,\n",
       " <p>Nebahat Bayrakcioglu, Academic Program Coordinator, Physician Assistant Studies<br/><a href=\"mailto:nebahat.bayrakcioglu@yu.edu\">nebahat.bayrakcioglu@yu.edu</a> | 646-592-4034</p>,\n",
       " <p>Gladys Davis, Academic Program Coordinator, Occupational Therapy<br/><a href=\"mailto:gladys.davis@yu.edu\">gladys.davis@yu.edu</a> | 646-592-4762</p>,\n",
       " <p>Ariana Allias, Program Manager, STEM<br/><a href=\"mailto:ariana.allias@yu.edu\">ariana.allias@yu.edu</a> </p>,\n",
       " <p>Lloyd Carew-Reid, Instructional Designer<br/><a href=\"mailto:Lloyd.Carewreid@yu.edu\">lloyd.carew-reid@yu.edu</a> | 646-592-4768</p>,\n",
       " <p>Denton Field, Media Production Manager<br/><a href=\"mailto:denton.field@yu.edu\">denton.field@yu.edu</a></p>]"
      ]
     },
     "execution_count": 15,
     "metadata": {},
     "output_type": "execute_result"
    }
   ],
   "source": [
    "# Extract all paragrapgh from text into staff_arr variable\n",
    "staff_arr = staff[0].find_all('p')\n",
    "staff_arr"
   ]
  },
  {
   "cell_type": "markdown",
   "id": "91ad7e70",
   "metadata": {},
   "source": [
    "__From the array we can easily view all the text data about staffs name, title, phone, office, email etc. Now I will extract all necessary information step by step__"
   ]
  },
  {
   "cell_type": "markdown",
   "id": "0e04787c",
   "metadata": {},
   "source": [
    "## Getting the Name of staff\n",
    "To get the name of the staff data I will create an empty list where will insert data, then will use for loop, regex, lambda funtion to finally get the cleaned data in a list."
   ]
  },
  {
   "cell_type": "code",
   "execution_count": 16,
   "id": "Gj9AaIibhltF",
   "metadata": {
    "ExecuteTime": {
     "end_time": "2023-11-12T20:17:41.845647Z",
     "start_time": "2023-11-12T20:17:41.840998Z"
    },
    "colab": {
     "base_uri": "https://localhost:8080/"
    },
    "id": "Gj9AaIibhltF",
    "outputId": "92665193-df1b-4083-ec8e-1b5e3fae64f7"
   },
   "outputs": [],
   "source": [
    "# create an empty list \n",
    "names = []\n",
    "# Using for loop and regex get the names of staff\n",
    "for name in staff[0].find_all('p'):\n",
    "  name = name.get_text()\n",
    "  name = name.split('\\xa0\\n\\xa0\\n')\n",
    "  if len(name) == 1:\n",
    "    name = name[0].split(',')\n",
    "    names.append(name[0])\n",
    "  else:\n",
    "    for n in name:\n",
    "      n = n.split(',')\n",
    "      names.append(n[0])\n",
    "\n",
    "names = list(filter(lambda x: len(x) > 0 and x != '\\xa0',names))\n"
   ]
  },
  {
   "cell_type": "code",
   "execution_count": 17,
   "id": "6f293ee6",
   "metadata": {
    "ExecuteTime": {
     "end_time": "2023-11-12T20:17:41.851330Z",
     "start_time": "2023-11-12T20:17:41.846658Z"
    }
   },
   "outputs": [
    {
     "name": "stdout",
     "output_type": "stream",
     "text": [
      "The name of staffs : ['Paul Russo', 'Aaron Ross', 'Sofia Binioris', 'Jackie Hamilton', 'Pamela Rodman', 'Tabitha Collazo', 'Ann Leary', 'Jared Hakimi', 'Xavier Velasquez', 'Shayna Matzner', 'Linyu Zheng', 'Hyokyeong \"Kyeong\" Yu', 'Rafael Reyes', 'John Vivolo', 'Nebahat Bayrakcioglu', 'Gladys Davis', 'Ariana Allias', 'Lloyd Carew-Reid', 'Denton Field']\n",
      "xxxxxxxxxxxxxxxxxxxxxxxxxxxxxxxxxxxxxx\n",
      "The total number of staffs are : 19\n"
     ]
    }
   ],
   "source": [
    "# see the name of staffs at katz\n",
    "print(\"The name of staffs :\", names)\n",
    "\n",
    "print(\"xxxxxxxxxxxxxxxxxxxxxxxxxxxxxxxxxxxxxx\")\n",
    "# View the number of staffs at katz\n",
    "print(\"The total number of staffs are :\", len(names))"
   ]
  },
  {
   "cell_type": "markdown",
   "id": "777e396f",
   "metadata": {},
   "source": [
    "## Getting the email of staff\n",
    "To get the email of the staff data I will create an empty list where will insert data, then will use for loop, regex, lambda funtion to finally get the cleaned data in a list."
   ]
  },
  {
   "cell_type": "code",
   "execution_count": 18,
   "id": "HoQh6Irgqcvt",
   "metadata": {
    "ExecuteTime": {
     "end_time": "2023-11-12T20:17:41.858703Z",
     "start_time": "2023-11-12T20:17:41.852340Z"
    },
    "colab": {
     "base_uri": "https://localhost:8080/"
    },
    "id": "HoQh6Irgqcvt",
    "outputId": "fe1057d3-e5ac-4c55-e1bc-4e10263e29ac"
   },
   "outputs": [],
   "source": [
    "# Creating an empty list emails\n",
    "emails = []\n",
    "\n",
    "for email in staff[0].find_all('p'):\n",
    "\n",
    "  for a in email.find_all('a'):\n",
    "    emails.append(a.text)\n",
    "\n",
    "emails = list(filter(lambda x: 'Schedule an Appointment' not in x,emails))\n",
    "email_pattern = r'^[a-zA-Z0-9._%+-]+@[a-zA-Z0-9.-]+\\.[a-zA-Z]{2,}$'\n",
    "\n",
    "emails = list(map(lambda x: x if re.match(email_pattern,x) else 'NA',emails))"
   ]
  },
  {
   "cell_type": "markdown",
   "id": "cbe39671",
   "metadata": {},
   "source": [
    "__Show the mails and number of emails in the text__"
   ]
  },
  {
   "cell_type": "code",
   "execution_count": 19,
   "id": "f23660a4",
   "metadata": {
    "ExecuteTime": {
     "end_time": "2023-11-12T20:17:41.864597Z",
     "start_time": "2023-11-12T20:17:41.860711Z"
    }
   },
   "outputs": [
    {
     "name": "stdout",
     "output_type": "stream",
     "text": [
      "The email of staffs : ['NA', 'aaron.ross2@yu.edu', 'sofia.binioris@yu.edu', 'jackie.hamilton@yu.edu', 'pamela.rodman@yu.edu', 'tabitha.collazo@yu.edu', 'ann.leary@yu.edu', 'jared.hakimi@yu.edu', 'xavier.velasquez@yu.edu', 'shayna.matzner@yu.edu', 'linyu.zheng@yu.edu', 'hyokyeong.yu@yu.edu', 'rafael.reyes@yu.edu', 'john.vivolo@yu.edu', 'nebahat.bayrakcioglu@yu.edu', 'gladys.davis@yu.edu', 'ariana.allias@yu.edu', 'lloyd.carew-reid@yu.edu', 'denton.field@yu.edu']\n",
      "xxxxxxxxxxxxxxxxxxxxxxxxxxxxxxxxxxxxxx\n",
      "The total number of emails are including NA(who has not email): 19\n"
     ]
    }
   ],
   "source": [
    "# see the email of staffs at katz\n",
    "print(\"The email of staffs :\", emails)\n",
    "\n",
    "print(\"xxxxxxxxxxxxxxxxxxxxxxxxxxxxxxxxxxxxxx\")\n",
    "\n",
    "# View the number of emails at katz\n",
    "print(\"The total number of emails are including NA(who has not email):\", len(emails))"
   ]
  },
  {
   "cell_type": "markdown",
   "id": "19b79c23",
   "metadata": {},
   "source": [
    "## Getting the title of staff\n",
    "To get the title of the staff data I will create an empty list where will insert data, then will use for loop and regex to finally get the cleaned data in a list."
   ]
  },
  {
   "cell_type": "code",
   "execution_count": 20,
   "id": "1ZwiK6S0twTd",
   "metadata": {
    "ExecuteTime": {
     "end_time": "2023-11-12T20:17:41.870476Z",
     "start_time": "2023-11-12T20:17:41.865609Z"
    },
    "colab": {
     "base_uri": "https://localhost:8080/"
    },
    "id": "1ZwiK6S0twTd",
    "outputId": "d93616b1-7821-480f-b8df-dee4ae412561"
   },
   "outputs": [],
   "source": [
    "# Create an empty list as titles\n",
    "titles = []\n",
    "\n",
    "i = 0\n",
    "for title in staff[0].find_all('p'):\n",
    "  title =  title.get_text()\n",
    "  title = title.split('\\xa0\\n\\xa0\\n')\n",
    "  if title == ['\\xa0']:\n",
    "    continue\n",
    "  if len(title) == 1:\n",
    "    titles.append(title[0].split(',')[1].split(emails[i])[0])\n",
    "    i += 1\n",
    "  else:\n",
    "    for t in title:\n",
    "      titles.append(t.split(',')[1].split(emails[i])[0])\n",
    "      i += 1"
   ]
  },
  {
   "cell_type": "markdown",
   "id": "c2ff5c5e",
   "metadata": {},
   "source": [
    "__Show the titles and number of titles in the dataset__"
   ]
  },
  {
   "cell_type": "code",
   "execution_count": 21,
   "id": "1d9cbcb7",
   "metadata": {
    "ExecuteTime": {
     "end_time": "2023-11-12T20:17:41.877321Z",
     "start_time": "2023-11-12T20:17:41.872488Z"
    }
   },
   "outputs": [
    {
     "name": "stdout",
     "output_type": "stream",
     "text": [
      "The title of staffs : [\" Vice Provost and Dean\\xa0\\nProfessor of Data ScienceRead Dr. Russo's Biography\\xa0\", ' Assistant Dean for Academic Programs and Deputy to the Dean\\xa0', ' Director of Communications and Strategic Initiatives', ' Executive Director of Enrollment Management and Partnerships', ' Director of Finance and Administration', ' Business and Operations Coordinator', \"\\xa0Office Manager/Executive Assistant to the Dean's Office\", ' Director', ' Associate Director of Graduate Admissions Operations', ' Assistant Director', '\\xa0Assistant Director', ' International Student Advisor', ' Director of Graduate Student Life and Community Engagement', ' Executive Director of Academic Operations and Teaching and Learning', ' Academic Program Coordinator', ' Academic Program Coordinator', ' Program Manager', '\\xa0Instructional Designer', ' Media Production Manager']\n",
      "xxxxxxxxxxxxxxxxxxxxxxxxxxxxxxxxxxxxxx\n",
      "The total number of titles are : 19\n"
     ]
    }
   ],
   "source": [
    "# See the title of staffs at katz\n",
    "print(\"The title of staffs :\", titles)\n",
    "\n",
    "print(\"xxxxxxxxxxxxxxxxxxxxxxxxxxxxxxxxxxxxxx\")\n",
    "\n",
    "# View the number of titles at katz\n",
    "print(\"The total number of titles are :\", len(titles))"
   ]
  },
  {
   "cell_type": "markdown",
   "id": "b1a1f7b6",
   "metadata": {},
   "source": [
    "## Getting the phone number of staff\n",
    "To get the phone number of the staff data I will create an empty list where will insert data, then will use for loop and regex to finally get the cleaned data in a list."
   ]
  },
  {
   "cell_type": "code",
   "execution_count": 22,
   "id": "ril58wBeyQp1",
   "metadata": {
    "ExecuteTime": {
     "end_time": "2023-11-12T20:17:41.884370Z",
     "start_time": "2023-11-12T20:17:41.879336Z"
    },
    "colab": {
     "base_uri": "https://localhost:8080/"
    },
    "id": "ril58wBeyQp1",
    "outputId": "a68ba7d5-28e5-4166-9ca9-8208a155f4c3"
   },
   "outputs": [],
   "source": [
    "# Create an empty list an phone nums\n",
    "phone_nums = []\n",
    "\n",
    "i = 0\n",
    "for phones in staff[0].find_all('p'):\n",
    "  phones =  phones.get_text()\n",
    "  phones = phones.split('\\xa0\\n\\xa0\\n')\n",
    "  phone_pattern = r'(\\+\\d{1,3}\\s?)?(\\d{3}[-\\s]?\\d{3}[-\\s]?\\d{4})'\n",
    "\n",
    "  if phones == ['\\xa0']:\n",
    "    continue\n",
    "  if len(phones) == 1:\n",
    "    filter_phone = re.findall(phone_pattern,phones[0])\n",
    "    if filter_phone:\n",
    "      phone_nums.append(filter_phone[0][1])\n",
    "    else:\n",
    "      phone_nums.append(\"NA\")\n",
    "    # print(filter_phone)\n",
    "    # break\n",
    "    # titles.append(title[0].split(',')[1].split(emails[i])[0])\n",
    "    i += 1\n",
    "  else:\n",
    "    for p in phones:\n",
    "      filter_phone = re.findall(phone_pattern,p)\n",
    "      if filter_phone:\n",
    "        phone_nums.append(filter_phone[0][1])\n",
    "      else:\n",
    "        phone_nums.append(\"NA\")\n",
    "      # titles.append(t.split(',')[1].split(emails[i])[0])\n",
    "      i += 1"
   ]
  },
  {
   "cell_type": "code",
   "execution_count": 23,
   "id": "24acd0d2",
   "metadata": {
    "ExecuteTime": {
     "end_time": "2023-11-12T20:17:41.889609Z",
     "start_time": "2023-11-12T20:17:41.885380Z"
    }
   },
   "outputs": [
    {
     "name": "stdout",
     "output_type": "stream",
     "text": [
      "The phone number of staffs : ['NA', '646-592-4148', '645-592-4719', '646-787-6194', 'NA', '646-592-4735', '646-592-4724', '646-592-4722', '646-592-4737', '646-592-4726', '332-271-5865', '646-592-4736', '646-592-4729', '646-592-4743', '646-592-4034', '646-592-4762', 'NA', '646-592-4768', 'NA']\n",
      "xxxxxxxxxxxxxxxxxxxxxxxxxxxxxxxxxxxxxx\n",
      "The total number of phones user are : 19\n"
     ]
    }
   ],
   "source": [
    "# Find the phone numbers of staffs at katz\n",
    "print(\"The phone number of staffs :\", phone_nums)\n",
    "\n",
    "print(\"xxxxxxxxxxxxxxxxxxxxxxxxxxxxxxxxxxxxxx\")\n",
    "\n",
    "# View the number of phones for staff use at katz\n",
    "print(\"The total number of phones user are :\", len(phone_nums))"
   ]
  },
  {
   "cell_type": "markdown",
   "id": "b5767151",
   "metadata": {
    "id": "b5767151"
   },
   "source": [
    "## Getting the name of the offices\n",
    "\n",
    "From the text element we have found that under h3 header we have all offices name. So first we do collect the offices data in offices variable."
   ]
  },
  {
   "cell_type": "code",
   "execution_count": 24,
   "id": "56a5f2a4",
   "metadata": {
    "ExecuteTime": {
     "end_time": "2023-11-12T20:17:41.897053Z",
     "start_time": "2023-11-12T20:17:41.891647Z"
    },
    "colab": {
     "base_uri": "https://localhost:8080/"
    },
    "id": "56a5f2a4",
    "outputId": "0f4753b9-dfef-4228-bc80-43a363400c95"
   },
   "outputs": [
    {
     "data": {
      "text/plain": [
       "[<h3>Office of the Dean </h3>,\n",
       " <h3>Graduate Admissions</h3>,\n",
       " <h3>Graduate Student Life</h3>,\n",
       " <h3>Academic Operations and Teaching and Learning</h3>]"
      ]
     },
     "execution_count": 24,
     "metadata": {},
     "output_type": "execute_result"
    }
   ],
   "source": [
    "# Find the offices from the heading elements under h3\n",
    "h3_elements = staff[0].find_all('h3')\n",
    "h3_elements"
   ]
  },
  {
   "cell_type": "code",
   "execution_count": 25,
   "id": "c48b4645",
   "metadata": {
    "ExecuteTime": {
     "end_time": "2023-11-12T20:17:41.901578Z",
     "start_time": "2023-11-12T20:17:41.898065Z"
    },
    "id": "c48b4645"
   },
   "outputs": [],
   "source": [
    "# Extract and store the text in the offices variable as list\n",
    "offices = [h3.get_text().strip() for h3 in h3_elements]"
   ]
  },
  {
   "cell_type": "code",
   "execution_count": 26,
   "id": "ec6efbc5",
   "metadata": {
    "ExecuteTime": {
     "end_time": "2023-11-12T20:17:41.907606Z",
     "start_time": "2023-11-12T20:17:41.902584Z"
    },
    "colab": {
     "base_uri": "https://localhost:8080/"
    },
    "id": "ec6efbc5",
    "outputId": "126519f2-e1bb-4ce1-ab3d-0ccb0eb7028b"
   },
   "outputs": [
    {
     "data": {
      "text/plain": [
       "['Office of the Dean',\n",
       " 'Graduate Admissions',\n",
       " 'Graduate Student Life',\n",
       " 'Academic Operations and Teaching and Learning']"
      ]
     },
     "execution_count": 26,
     "metadata": {},
     "output_type": "execute_result"
    }
   ],
   "source": [
    "# Show the list of offices\n",
    "offices"
   ]
  },
  {
   "cell_type": "markdown",
   "id": "d163bdb5",
   "metadata": {},
   "source": [
    "__AS we have only 4 offices and 19 employees. One office has one or more employee, so we will define them accordingly.__\n",
    "__First we will create a dataframe and insert the values in that dataframe designed columns__"
   ]
  },
  {
   "cell_type": "code",
   "execution_count": 27,
   "id": "eG2R6y9iV5K6",
   "metadata": {
    "ExecuteTime": {
     "end_time": "2023-11-12T20:17:41.914174Z",
     "start_time": "2023-11-12T20:17:41.909900Z"
    },
    "id": "eG2R6y9iV5K6"
   },
   "outputs": [],
   "source": [
    "# Creating dataframe as staff_info\n",
    "staff_info = pd.DataFrame({\n",
    "    #\"office\": offices,\n",
    "    \"name\": names,\n",
    "    \"title\": titles,\n",
    "    \"email\": emails,\n",
    "    \"phone\": phone_nums\n",
    "})"
   ]
  },
  {
   "cell_type": "code",
   "execution_count": 28,
   "id": "3463056c",
   "metadata": {
    "ExecuteTime": {
     "end_time": "2023-11-12T20:17:41.924943Z",
     "start_time": "2023-11-12T20:17:41.920317Z"
    }
   },
   "outputs": [],
   "source": [
    "# Create a new column for the office\n",
    "staff_info['office'] = ''\n",
    "\n",
    "# Assign values to the 'office' column\n",
    "staff_info.loc[:6, 'office'] = offices[0]\n",
    "staff_info.loc[7:11, 'office'] = offices[1]\n",
    "staff_info.loc[12, 'office'] = offices[2]\n",
    "staff_info.loc[13:, 'office'] = offices[3]"
   ]
  },
  {
   "cell_type": "code",
   "execution_count": 29,
   "id": "F8Qe5NkQV5Nd",
   "metadata": {
    "ExecuteTime": {
     "end_time": "2023-11-12T20:17:41.936332Z",
     "start_time": "2023-11-12T20:17:41.926961Z"
    },
    "colab": {
     "base_uri": "https://localhost:8080/",
     "height": 645
    },
    "id": "F8Qe5NkQV5Nd",
    "outputId": "ad5a7658-ddcd-4522-d13d-5aeeb494963e"
   },
   "outputs": [
    {
     "data": {
      "text/html": [
       "<div>\n",
       "<style scoped>\n",
       "    .dataframe tbody tr th:only-of-type {\n",
       "        vertical-align: middle;\n",
       "    }\n",
       "\n",
       "    .dataframe tbody tr th {\n",
       "        vertical-align: top;\n",
       "    }\n",
       "\n",
       "    .dataframe thead th {\n",
       "        text-align: right;\n",
       "    }\n",
       "</style>\n",
       "<table border=\"1\" class=\"dataframe\">\n",
       "  <thead>\n",
       "    <tr style=\"text-align: right;\">\n",
       "      <th></th>\n",
       "      <th>name</th>\n",
       "      <th>title</th>\n",
       "      <th>email</th>\n",
       "      <th>phone</th>\n",
       "      <th>office</th>\n",
       "    </tr>\n",
       "  </thead>\n",
       "  <tbody>\n",
       "    <tr>\n",
       "      <th>0</th>\n",
       "      <td>Paul Russo</td>\n",
       "      <td>Vice Provost and Dean \\nProfessor of Data Sci...</td>\n",
       "      <td>NA</td>\n",
       "      <td>NA</td>\n",
       "      <td>Office of the Dean</td>\n",
       "    </tr>\n",
       "    <tr>\n",
       "      <th>1</th>\n",
       "      <td>Aaron Ross</td>\n",
       "      <td>Assistant Dean for Academic Programs and Depu...</td>\n",
       "      <td>aaron.ross2@yu.edu</td>\n",
       "      <td>646-592-4148</td>\n",
       "      <td>Office of the Dean</td>\n",
       "    </tr>\n",
       "    <tr>\n",
       "      <th>2</th>\n",
       "      <td>Sofia Binioris</td>\n",
       "      <td>Director of Communications and Strategic Init...</td>\n",
       "      <td>sofia.binioris@yu.edu</td>\n",
       "      <td>645-592-4719</td>\n",
       "      <td>Office of the Dean</td>\n",
       "    </tr>\n",
       "    <tr>\n",
       "      <th>3</th>\n",
       "      <td>Jackie Hamilton</td>\n",
       "      <td>Executive Director of Enrollment Management a...</td>\n",
       "      <td>jackie.hamilton@yu.edu</td>\n",
       "      <td>646-787-6194</td>\n",
       "      <td>Office of the Dean</td>\n",
       "    </tr>\n",
       "    <tr>\n",
       "      <th>4</th>\n",
       "      <td>Pamela Rodman</td>\n",
       "      <td>Director of Finance and Administration</td>\n",
       "      <td>pamela.rodman@yu.edu</td>\n",
       "      <td>NA</td>\n",
       "      <td>Office of the Dean</td>\n",
       "    </tr>\n",
       "    <tr>\n",
       "      <th>5</th>\n",
       "      <td>Tabitha Collazo</td>\n",
       "      <td>Business and Operations Coordinator</td>\n",
       "      <td>tabitha.collazo@yu.edu</td>\n",
       "      <td>646-592-4735</td>\n",
       "      <td>Office of the Dean</td>\n",
       "    </tr>\n",
       "    <tr>\n",
       "      <th>6</th>\n",
       "      <td>Ann Leary</td>\n",
       "      <td>Office Manager/Executive Assistant to the Dea...</td>\n",
       "      <td>ann.leary@yu.edu</td>\n",
       "      <td>646-592-4724</td>\n",
       "      <td>Office of the Dean</td>\n",
       "    </tr>\n",
       "    <tr>\n",
       "      <th>7</th>\n",
       "      <td>Jared Hakimi</td>\n",
       "      <td>Director</td>\n",
       "      <td>jared.hakimi@yu.edu</td>\n",
       "      <td>646-592-4722</td>\n",
       "      <td>Graduate Admissions</td>\n",
       "    </tr>\n",
       "    <tr>\n",
       "      <th>8</th>\n",
       "      <td>Xavier Velasquez</td>\n",
       "      <td>Associate Director of Graduate Admissions Ope...</td>\n",
       "      <td>xavier.velasquez@yu.edu</td>\n",
       "      <td>646-592-4737</td>\n",
       "      <td>Graduate Admissions</td>\n",
       "    </tr>\n",
       "    <tr>\n",
       "      <th>9</th>\n",
       "      <td>Shayna Matzner</td>\n",
       "      <td>Assistant Director</td>\n",
       "      <td>shayna.matzner@yu.edu</td>\n",
       "      <td>646-592-4726</td>\n",
       "      <td>Graduate Admissions</td>\n",
       "    </tr>\n",
       "    <tr>\n",
       "      <th>10</th>\n",
       "      <td>Linyu Zheng</td>\n",
       "      <td>Assistant Director</td>\n",
       "      <td>linyu.zheng@yu.edu</td>\n",
       "      <td>332-271-5865</td>\n",
       "      <td>Graduate Admissions</td>\n",
       "    </tr>\n",
       "    <tr>\n",
       "      <th>11</th>\n",
       "      <td>Hyokyeong \"Kyeong\" Yu</td>\n",
       "      <td>International Student Advisor</td>\n",
       "      <td>hyokyeong.yu@yu.edu</td>\n",
       "      <td>646-592-4736</td>\n",
       "      <td>Graduate Admissions</td>\n",
       "    </tr>\n",
       "    <tr>\n",
       "      <th>12</th>\n",
       "      <td>Rafael Reyes</td>\n",
       "      <td>Director of Graduate Student Life and Communi...</td>\n",
       "      <td>rafael.reyes@yu.edu</td>\n",
       "      <td>646-592-4729</td>\n",
       "      <td>Graduate Student Life</td>\n",
       "    </tr>\n",
       "    <tr>\n",
       "      <th>13</th>\n",
       "      <td>John Vivolo</td>\n",
       "      <td>Executive Director of Academic Operations and...</td>\n",
       "      <td>john.vivolo@yu.edu</td>\n",
       "      <td>646-592-4743</td>\n",
       "      <td>Academic Operations and Teaching and Learning</td>\n",
       "    </tr>\n",
       "    <tr>\n",
       "      <th>14</th>\n",
       "      <td>Nebahat Bayrakcioglu</td>\n",
       "      <td>Academic Program Coordinator</td>\n",
       "      <td>nebahat.bayrakcioglu@yu.edu</td>\n",
       "      <td>646-592-4034</td>\n",
       "      <td>Academic Operations and Teaching and Learning</td>\n",
       "    </tr>\n",
       "    <tr>\n",
       "      <th>15</th>\n",
       "      <td>Gladys Davis</td>\n",
       "      <td>Academic Program Coordinator</td>\n",
       "      <td>gladys.davis@yu.edu</td>\n",
       "      <td>646-592-4762</td>\n",
       "      <td>Academic Operations and Teaching and Learning</td>\n",
       "    </tr>\n",
       "    <tr>\n",
       "      <th>16</th>\n",
       "      <td>Ariana Allias</td>\n",
       "      <td>Program Manager</td>\n",
       "      <td>ariana.allias@yu.edu</td>\n",
       "      <td>NA</td>\n",
       "      <td>Academic Operations and Teaching and Learning</td>\n",
       "    </tr>\n",
       "    <tr>\n",
       "      <th>17</th>\n",
       "      <td>Lloyd Carew-Reid</td>\n",
       "      <td>Instructional Designer</td>\n",
       "      <td>lloyd.carew-reid@yu.edu</td>\n",
       "      <td>646-592-4768</td>\n",
       "      <td>Academic Operations and Teaching and Learning</td>\n",
       "    </tr>\n",
       "    <tr>\n",
       "      <th>18</th>\n",
       "      <td>Denton Field</td>\n",
       "      <td>Media Production Manager</td>\n",
       "      <td>denton.field@yu.edu</td>\n",
       "      <td>NA</td>\n",
       "      <td>Academic Operations and Teaching and Learning</td>\n",
       "    </tr>\n",
       "  </tbody>\n",
       "</table>\n",
       "</div>"
      ],
      "text/plain": [
       "                     name                                              title  \\\n",
       "0              Paul Russo   Vice Provost and Dean \\nProfessor of Data Sci...   \n",
       "1              Aaron Ross   Assistant Dean for Academic Programs and Depu...   \n",
       "2          Sofia Binioris   Director of Communications and Strategic Init...   \n",
       "3         Jackie Hamilton   Executive Director of Enrollment Management a...   \n",
       "4           Pamela Rodman             Director of Finance and Administration   \n",
       "5         Tabitha Collazo                Business and Operations Coordinator   \n",
       "6               Ann Leary   Office Manager/Executive Assistant to the Dea...   \n",
       "7            Jared Hakimi                                           Director   \n",
       "8        Xavier Velasquez   Associate Director of Graduate Admissions Ope...   \n",
       "9          Shayna Matzner                                 Assistant Director   \n",
       "10            Linyu Zheng                                 Assistant Director   \n",
       "11  Hyokyeong \"Kyeong\" Yu                      International Student Advisor   \n",
       "12           Rafael Reyes   Director of Graduate Student Life and Communi...   \n",
       "13            John Vivolo   Executive Director of Academic Operations and...   \n",
       "14   Nebahat Bayrakcioglu                       Academic Program Coordinator   \n",
       "15           Gladys Davis                       Academic Program Coordinator   \n",
       "16          Ariana Allias                                    Program Manager   \n",
       "17       Lloyd Carew-Reid                             Instructional Designer   \n",
       "18           Denton Field                           Media Production Manager   \n",
       "\n",
       "                          email         phone  \\\n",
       "0                            NA            NA   \n",
       "1            aaron.ross2@yu.edu  646-592-4148   \n",
       "2         sofia.binioris@yu.edu  645-592-4719   \n",
       "3        jackie.hamilton@yu.edu  646-787-6194   \n",
       "4          pamela.rodman@yu.edu            NA   \n",
       "5        tabitha.collazo@yu.edu  646-592-4735   \n",
       "6              ann.leary@yu.edu  646-592-4724   \n",
       "7           jared.hakimi@yu.edu  646-592-4722   \n",
       "8       xavier.velasquez@yu.edu  646-592-4737   \n",
       "9         shayna.matzner@yu.edu  646-592-4726   \n",
       "10           linyu.zheng@yu.edu  332-271-5865   \n",
       "11          hyokyeong.yu@yu.edu  646-592-4736   \n",
       "12          rafael.reyes@yu.edu  646-592-4729   \n",
       "13           john.vivolo@yu.edu  646-592-4743   \n",
       "14  nebahat.bayrakcioglu@yu.edu  646-592-4034   \n",
       "15          gladys.davis@yu.edu  646-592-4762   \n",
       "16         ariana.allias@yu.edu            NA   \n",
       "17      lloyd.carew-reid@yu.edu  646-592-4768   \n",
       "18          denton.field@yu.edu            NA   \n",
       "\n",
       "                                           office  \n",
       "0                              Office of the Dean  \n",
       "1                              Office of the Dean  \n",
       "2                              Office of the Dean  \n",
       "3                              Office of the Dean  \n",
       "4                              Office of the Dean  \n",
       "5                              Office of the Dean  \n",
       "6                              Office of the Dean  \n",
       "7                             Graduate Admissions  \n",
       "8                             Graduate Admissions  \n",
       "9                             Graduate Admissions  \n",
       "10                            Graduate Admissions  \n",
       "11                            Graduate Admissions  \n",
       "12                          Graduate Student Life  \n",
       "13  Academic Operations and Teaching and Learning  \n",
       "14  Academic Operations and Teaching and Learning  \n",
       "15  Academic Operations and Teaching and Learning  \n",
       "16  Academic Operations and Teaching and Learning  \n",
       "17  Academic Operations and Teaching and Learning  \n",
       "18  Academic Operations and Teaching and Learning  "
      ]
     },
     "execution_count": 29,
     "metadata": {},
     "output_type": "execute_result"
    }
   ],
   "source": [
    "# View the created staff information dataframe\n",
    "staff_info"
   ]
  },
  {
   "cell_type": "code",
   "execution_count": 92,
   "id": "f135f0c7",
   "metadata": {
    "ExecuteTime": {
     "end_time": "2023-11-12T21:36:19.648647Z",
     "start_time": "2023-11-12T21:36:19.353496Z"
    }
   },
   "outputs": [
    {
     "data": {
      "image/png": "[encoded data removed]",
      "text/plain": [
       "<Figure size 640x480 with 1 Axes>"
      ]
     },
     "metadata": {},
     "output_type": "display_data"
    }
   ],
   "source": [
    "# Plot the data\n",
    "fig, ax = plt.subplots()\n",
    "staff_info.groupby(['office']).count()['name'].plot(kind='barh', stacked=True, ax=ax)\n",
    "plt.xlabel('Office')\n",
    "plt.ylabel('Total number of employees')\n",
    "plt.title('Total number of employees by Office')\n",
    "plt.show();"
   ]
  },
  {
   "cell_type": "markdown",
   "id": "7a0971df",
   "metadata": {},
   "source": [
    "We can see the number of employees distribution per department or offices. "
   ]
  },
  {
   "cell_type": "markdown",
   "id": "5db5f034",
   "metadata": {
    "id": "5db5f034"
   },
   "source": [
    "# Part 3 : Working with Web API's\n",
    "\n",
    "To work with the newsdata.io API and convert the JSON data into a Pandas DataFrame for analysis, we need to follow these steps:\n",
    "- Sign up for an API key on the news data.io website.\n",
    "\n",
    "- Choose the API , where I have chosen Live Breaking News.\n",
    "\n",
    "- Use the API to retrieve JSON data.\n",
    "\n",
    "- Parse the JSON data.\n",
    "\n",
    "- Convert the data into a Pandas DataFrame.\n",
    "\n",
    "- Then will perform some basic analysis on the data."
   ]
  },
  {
   "cell_type": "markdown",
   "id": "880ad2e3",
   "metadata": {
    "id": "880ad2e3"
   },
   "source": [
    "## Step 1: Sign Up for an API Key\n",
    "\n",
    "I have visited the [newsdata](https://newsdata.io/) website and sign up for an API key, by following documentation and guidelines.\n",
    "\n",
    "I sign up with my email and then verify that email and log in with my password. Then I searched the data to choose."
   ]
  },
  {
   "cell_type": "markdown",
   "id": "b7a6bc5b",
   "metadata": {
    "id": "b7a6bc5b"
   },
   "source": [
    "## Step 2: Choose an API\n",
    "I have selected the 'Live Breaking News' API. The source of data is [source link](\"https://newsdata.io/api/1/news?apikey=pub_3243760fb6d22af18df2cd88f599ffca0ebfd&q=Live%20Breaking%20News\")"
   ]
  },
  {
   "cell_type": "markdown",
   "id": "d37cd28c",
   "metadata": {
    "id": "d37cd28c"
   },
   "source": [
    "## Step 3: Retrieve JSON Data\n",
    "Use Python to make an API request and retrieve JSON data. You can use the requests library to make HTTP requests.\n"
   ]
  },
  {
   "cell_type": "code",
   "execution_count": 30,
   "id": "b5b7db3b",
   "metadata": {
    "ExecuteTime": {
     "end_time": "2023-11-12T20:17:41.940533Z",
     "start_time": "2023-11-12T20:17:41.937339Z"
    },
    "id": "b5b7db3b"
   },
   "outputs": [],
   "source": [
    "# Import requests library to import data from the web\n",
    "import requests"
   ]
  },
  {
   "cell_type": "code",
   "execution_count": 31,
   "id": "f8c3672c",
   "metadata": {
    "ExecuteTime": {
     "end_time": "2023-11-12T20:17:41.944858Z",
     "start_time": "2023-11-12T20:17:41.941542Z"
    },
    "id": "f8c3672c"
   },
   "outputs": [],
   "source": [
    "# Define my API key\n",
    "api_key = 'pub_3243760fb6d22af18df2cd88f599ffca0ebfd'\n"
   ]
  },
  {
   "cell_type": "code",
   "execution_count": 32,
   "id": "8741a053",
   "metadata": {
    "ExecuteTime": {
     "end_time": "2023-11-12T20:17:41.950304Z",
     "start_time": "2023-11-12T20:17:41.945894Z"
    },
    "colab": {
     "base_uri": "https://localhost:8080/",
     "height": 35
    },
    "id": "8741a053",
    "outputId": "3e854e26-f9fa-4c6a-e1fd-7f7f79fbb772"
   },
   "outputs": [
    {
     "data": {
      "text/plain": [
       "'https://newsdata.io/api/1/news?apikey=pub_3243760fb6d22af18df2cd88f599ffca0ebfd&q=Live Breaking News'"
      ]
     },
     "execution_count": 32,
     "metadata": {},
     "output_type": "execute_result"
    }
   ],
   "source": [
    "# Define the API URL\n",
    "topic = 'Live Breaking News'\n",
    "api_url = f'https://newsdata.io/api/1/news?apikey={api_key}&q={topic}'\n",
    "api_url"
   ]
  },
  {
   "cell_type": "code",
   "execution_count": 33,
   "id": "9274e039",
   "metadata": {
    "ExecuteTime": {
     "end_time": "2023-11-12T20:17:42.065223Z",
     "start_time": "2023-11-12T20:17:41.951312Z"
    },
    "id": "9274e039"
   },
   "outputs": [
    {
     "data": {
      "text/plain": [
       "200"
      ]
     },
     "execution_count": 33,
     "metadata": {},
     "output_type": "execute_result"
    }
   ],
   "source": [
    "# Make the API request with my set key\n",
    "response = requests.get(api_url)\n",
    "# if response code result is 200 then we will get data sucessfully\n",
    "response.status_code"
   ]
  },
  {
   "cell_type": "markdown",
   "id": "e9407c5f",
   "metadata": {},
   "source": [
    "Yes, it meets the condition to fetch data successfully from the web."
   ]
  },
  {
   "cell_type": "code",
   "execution_count": 34,
   "id": "6c0cce83",
   "metadata": {
    "ExecuteTime": {
     "end_time": "2023-11-12T20:17:42.077610Z",
     "start_time": "2023-11-12T20:17:42.069251Z"
    },
    "id": "6c0cce83"
   },
   "outputs": [],
   "source": [
    "# Check the response status code\n",
    "if response.status_code == 200:\n",
    "    data = response.json()\n",
    "else:\n",
    "    print(f\"Failed to retrieve data. Status code: {response.status_code}\")\n",
    "    data = []\n"
   ]
  },
  {
   "cell_type": "markdown",
   "id": "8f445455",
   "metadata": {
    "id": "8f445455"
   },
   "source": [
    "## Step 4: Parse JSON Data and Create DataFrame\n",
    "Assuming that you have received JSON data, you can parse it and create a Pandas DataFrame.\n"
   ]
  },
  {
   "cell_type": "code",
   "execution_count": 35,
   "id": "LSWoy3jxs5Jx",
   "metadata": {
    "ExecuteTime": {
     "end_time": "2023-11-12T20:17:42.089409Z",
     "start_time": "2023-11-12T20:17:42.081674Z"
    },
    "id": "LSWoy3jxs5Jx"
   },
   "outputs": [],
   "source": [
    "# create an emmpty list as data\n",
    "data = news = data['results']"
   ]
  },
  {
   "cell_type": "code",
   "execution_count": 36,
   "id": "b39d6064",
   "metadata": {
    "ExecuteTime": {
     "end_time": "2023-11-12T20:17:42.114859Z",
     "start_time": "2023-11-12T20:17:42.092424Z"
    },
    "colab": {
     "base_uri": "https://localhost:8080/",
     "height": 590
    },
    "id": "b39d6064",
    "outputId": "72774e10-5930-4ba5-ceef-89338cf74793"
   },
   "outputs": [
    {
     "data": {
      "text/html": [
       "<div>\n",
       "<style scoped>\n",
       "    .dataframe tbody tr th:only-of-type {\n",
       "        vertical-align: middle;\n",
       "    }\n",
       "\n",
       "    .dataframe tbody tr th {\n",
       "        vertical-align: top;\n",
       "    }\n",
       "\n",
       "    .dataframe thead th {\n",
       "        text-align: right;\n",
       "    }\n",
       "</style>\n",
       "<table border=\"1\" class=\"dataframe\">\n",
       "  <thead>\n",
       "    <tr style=\"text-align: right;\">\n",
       "      <th></th>\n",
       "      <th>article_id</th>\n",
       "      <th>title</th>\n",
       "      <th>link</th>\n",
       "      <th>keywords</th>\n",
       "      <th>creator</th>\n",
       "      <th>video_url</th>\n",
       "      <th>description</th>\n",
       "      <th>content</th>\n",
       "      <th>pubDate</th>\n",
       "      <th>image_url</th>\n",
       "      <th>source_id</th>\n",
       "      <th>source_priority</th>\n",
       "      <th>country</th>\n",
       "      <th>category</th>\n",
       "      <th>language</th>\n",
       "    </tr>\n",
       "  </thead>\n",
       "  <tbody>\n",
       "    <tr>\n",
       "      <th>0</th>\n",
       "      <td>41cd2f78b845a89e687f6955a68f54eb</td>\n",
       "      <td>Olivia Attwood breaks her silence on rumours o...</td>\n",
       "      <td>https://www.dailymail.co.uk/tvshowbiz/article-...</td>\n",
       "      <td>None</td>\n",
       "      <td>None</td>\n",
       "      <td>None</td>\n",
       "      <td>Olivia Attwood has broken her silence on rumou...</td>\n",
       "      <td>Olivia Attwood breaks her silence on rumours o...</td>\n",
       "      <td>2023-11-12 18:57:34</td>\n",
       "      <td>https://i.dailymail.co.uk/1s/2023/11/12/18/777...</td>\n",
       "      <td>dailymailuk</td>\n",
       "      <td>135</td>\n",
       "      <td>[united kingdom]</td>\n",
       "      <td>[entertainment]</td>\n",
       "      <td>english</td>\n",
       "    </tr>\n",
       "    <tr>\n",
       "      <th>1</th>\n",
       "      <td>b2dcdd4ce61ea746cfeec7b19790248c</td>\n",
       "      <td>Premier League fans hail 'guaranteed entertain...</td>\n",
       "      <td>https://www.dailystar.co.uk/sport/football/pre...</td>\n",
       "      <td>[Sport]</td>\n",
       "      <td>None</td>\n",
       "      <td>None</td>\n",
       "      <td>Premier League fans have joked that it's guara...</td>\n",
       "      <td>The term \"Barclays\" has long-since risen above...</td>\n",
       "      <td>2023-11-12 18:34:03</td>\n",
       "      <td>https://i2-prod.dailystar.co.uk/incoming/artic...</td>\n",
       "      <td>dailystar</td>\n",
       "      <td>3076</td>\n",
       "      <td>[united kingdom]</td>\n",
       "      <td>[sports]</td>\n",
       "      <td>english</td>\n",
       "    </tr>\n",
       "    <tr>\n",
       "      <th>2</th>\n",
       "      <td>7e88dba2847f110d8285b743fb485044</td>\n",
       "      <td>Micah Richards and Daniel Sturridge burst into...</td>\n",
       "      <td>https://www.dailystar.co.uk/sport/football/mic...</td>\n",
       "      <td>[Football]</td>\n",
       "      <td>None</td>\n",
       "      <td>None</td>\n",
       "      <td>Sky Sports duo Micah Richards and Daniel Sturr...</td>\n",
       "      <td>Sky Sports pair and have been called 'box offi...</td>\n",
       "      <td>2023-11-12 18:06:30</td>\n",
       "      <td>https://i2-prod.dailystar.co.uk/incoming/artic...</td>\n",
       "      <td>dailystar</td>\n",
       "      <td>3076</td>\n",
       "      <td>[united kingdom]</td>\n",
       "      <td>[top]</td>\n",
       "      <td>english</td>\n",
       "    </tr>\n",
       "    <tr>\n",
       "      <th>3</th>\n",
       "      <td>406113a9bf227dc346e6fa3de9febdcc</td>\n",
       "      <td>ITV Big Brother’s Trish issues an apology afte...</td>\n",
       "      <td>https://www.manchestereveningnews.co.uk/news/t...</td>\n",
       "      <td>[TV]</td>\n",
       "      <td>[newsdesk@men-news.co.uk (Amelia Ward, Liv Cla...</td>\n",
       "      <td>None</td>\n",
       "      <td>Trish was evicted alongside Chanelle on Friday...</td>\n",
       "      <td>ITV Big Brother’s Trish has issued an apology ...</td>\n",
       "      <td>2023-11-12 17:31:10</td>\n",
       "      <td>https://i2-prod.manchestereveningnews.co.uk/in...</td>\n",
       "      <td>manchestereveningnews</td>\n",
       "      <td>6158</td>\n",
       "      <td>[united kingdom]</td>\n",
       "      <td>[top]</td>\n",
       "      <td>english</td>\n",
       "    </tr>\n",
       "    <tr>\n",
       "      <th>4</th>\n",
       "      <td>d721a5a4d01abb43a3a7db599d8ef3e8</td>\n",
       "      <td>​Benjamin Netanyahu tells NBC 'there could be'...</td>\n",
       "      <td>https://economictimes.indiatimes.com/news/inte...</td>\n",
       "      <td>None</td>\n",
       "      <td>None</td>\n",
       "      <td>None</td>\n",
       "      <td>​\"We heard that there was an impending deal of...</td>\n",
       "      <td>Synopsis ​\"We heard that there was an impendin...</td>\n",
       "      <td>2023-11-12 17:25:26</td>\n",
       "      <td>None</td>\n",
       "      <td>economictimes_indiatimes</td>\n",
       "      <td>376</td>\n",
       "      <td>[india]</td>\n",
       "      <td>[top]</td>\n",
       "      <td>english</td>\n",
       "    </tr>\n",
       "  </tbody>\n",
       "</table>\n",
       "</div>"
      ],
      "text/plain": [
       "                         article_id  \\\n",
       "0  41cd2f78b845a89e687f6955a68f54eb   \n",
       "1  b2dcdd4ce61ea746cfeec7b19790248c   \n",
       "2  7e88dba2847f110d8285b743fb485044   \n",
       "3  406113a9bf227dc346e6fa3de9febdcc   \n",
       "4  d721a5a4d01abb43a3a7db599d8ef3e8   \n",
       "\n",
       "                                               title  \\\n",
       "0  Olivia Attwood breaks her silence on rumours o...   \n",
       "1  Premier League fans hail 'guaranteed entertain...   \n",
       "2  Micah Richards and Daniel Sturridge burst into...   \n",
       "3  ITV Big Brother’s Trish issues an apology afte...   \n",
       "4  ​Benjamin Netanyahu tells NBC 'there could be'...   \n",
       "\n",
       "                                                link    keywords  \\\n",
       "0  https://www.dailymail.co.uk/tvshowbiz/article-...        None   \n",
       "1  https://www.dailystar.co.uk/sport/football/pre...     [Sport]   \n",
       "2  https://www.dailystar.co.uk/sport/football/mic...  [Football]   \n",
       "3  https://www.manchestereveningnews.co.uk/news/t...        [TV]   \n",
       "4  https://economictimes.indiatimes.com/news/inte...        None   \n",
       "\n",
       "                                             creator video_url  \\\n",
       "0                                               None      None   \n",
       "1                                               None      None   \n",
       "2                                               None      None   \n",
       "3  [newsdesk@men-news.co.uk (Amelia Ward, Liv Cla...      None   \n",
       "4                                               None      None   \n",
       "\n",
       "                                         description  \\\n",
       "0  Olivia Attwood has broken her silence on rumou...   \n",
       "1  Premier League fans have joked that it's guara...   \n",
       "2  Sky Sports duo Micah Richards and Daniel Sturr...   \n",
       "3  Trish was evicted alongside Chanelle on Friday...   \n",
       "4  ​\"We heard that there was an impending deal of...   \n",
       "\n",
       "                                             content              pubDate  \\\n",
       "0  Olivia Attwood breaks her silence on rumours o...  2023-11-12 18:57:34   \n",
       "1  The term \"Barclays\" has long-since risen above...  2023-11-12 18:34:03   \n",
       "2  Sky Sports pair and have been called 'box offi...  2023-11-12 18:06:30   \n",
       "3  ITV Big Brother’s Trish has issued an apology ...  2023-11-12 17:31:10   \n",
       "4  Synopsis ​\"We heard that there was an impendin...  2023-11-12 17:25:26   \n",
       "\n",
       "                                           image_url  \\\n",
       "0  https://i.dailymail.co.uk/1s/2023/11/12/18/777...   \n",
       "1  https://i2-prod.dailystar.co.uk/incoming/artic...   \n",
       "2  https://i2-prod.dailystar.co.uk/incoming/artic...   \n",
       "3  https://i2-prod.manchestereveningnews.co.uk/in...   \n",
       "4                                               None   \n",
       "\n",
       "                  source_id  source_priority           country  \\\n",
       "0               dailymailuk              135  [united kingdom]   \n",
       "1                 dailystar             3076  [united kingdom]   \n",
       "2                 dailystar             3076  [united kingdom]   \n",
       "3     manchestereveningnews             6158  [united kingdom]   \n",
       "4  economictimes_indiatimes              376           [india]   \n",
       "\n",
       "          category language  \n",
       "0  [entertainment]  english  \n",
       "1         [sports]  english  \n",
       "2            [top]  english  \n",
       "3            [top]  english  \n",
       "4            [top]  english  "
      ]
     },
     "execution_count": 36,
     "metadata": {},
     "output_type": "execute_result"
    }
   ],
   "source": [
    "# Assuming the JSON data is a list of dictionaries\n",
    "df = pd.DataFrame(news)\n",
    "df.head()\n"
   ]
  },
  {
   "cell_type": "markdown",
   "id": "ce6fec0d",
   "metadata": {
    "id": "ce6fec0d"
   },
   "source": [
    "## Step 5: Basic Data Analysis\n",
    "We will perform some basic analysis on the data using Pandas. For example:\n",
    "\n",
    "Check the structure of the data using df.head() and df.info().\n"
   ]
  },
  {
   "cell_type": "code",
   "execution_count": 37,
   "id": "2343e582",
   "metadata": {
    "ExecuteTime": {
     "end_time": "2023-11-12T20:17:42.130505Z",
     "start_time": "2023-11-12T20:17:42.116870Z"
    }
   },
   "outputs": [
    {
     "data": {
      "text/html": [
       "<div>\n",
       "<style scoped>\n",
       "    .dataframe tbody tr th:only-of-type {\n",
       "        vertical-align: middle;\n",
       "    }\n",
       "\n",
       "    .dataframe tbody tr th {\n",
       "        vertical-align: top;\n",
       "    }\n",
       "\n",
       "    .dataframe thead th {\n",
       "        text-align: right;\n",
       "    }\n",
       "</style>\n",
       "<table border=\"1\" class=\"dataframe\">\n",
       "  <thead>\n",
       "    <tr style=\"text-align: right;\">\n",
       "      <th></th>\n",
       "      <th>article_id</th>\n",
       "      <th>title</th>\n",
       "      <th>link</th>\n",
       "      <th>keywords</th>\n",
       "      <th>creator</th>\n",
       "      <th>video_url</th>\n",
       "      <th>description</th>\n",
       "      <th>content</th>\n",
       "      <th>pubDate</th>\n",
       "      <th>image_url</th>\n",
       "      <th>source_id</th>\n",
       "      <th>source_priority</th>\n",
       "      <th>country</th>\n",
       "      <th>category</th>\n",
       "      <th>language</th>\n",
       "    </tr>\n",
       "  </thead>\n",
       "  <tbody>\n",
       "    <tr>\n",
       "      <th>0</th>\n",
       "      <td>41cd2f78b845a89e687f6955a68f54eb</td>\n",
       "      <td>Olivia Attwood breaks her silence on rumours o...</td>\n",
       "      <td>https://www.dailymail.co.uk/tvshowbiz/article-...</td>\n",
       "      <td>None</td>\n",
       "      <td>None</td>\n",
       "      <td>None</td>\n",
       "      <td>Olivia Attwood has broken her silence on rumou...</td>\n",
       "      <td>Olivia Attwood breaks her silence on rumours o...</td>\n",
       "      <td>2023-11-12 18:57:34</td>\n",
       "      <td>https://i.dailymail.co.uk/1s/2023/11/12/18/777...</td>\n",
       "      <td>dailymailuk</td>\n",
       "      <td>135</td>\n",
       "      <td>[united kingdom]</td>\n",
       "      <td>[entertainment]</td>\n",
       "      <td>english</td>\n",
       "    </tr>\n",
       "    <tr>\n",
       "      <th>1</th>\n",
       "      <td>b2dcdd4ce61ea746cfeec7b19790248c</td>\n",
       "      <td>Premier League fans hail 'guaranteed entertain...</td>\n",
       "      <td>https://www.dailystar.co.uk/sport/football/pre...</td>\n",
       "      <td>[Sport]</td>\n",
       "      <td>None</td>\n",
       "      <td>None</td>\n",
       "      <td>Premier League fans have joked that it's guara...</td>\n",
       "      <td>The term \"Barclays\" has long-since risen above...</td>\n",
       "      <td>2023-11-12 18:34:03</td>\n",
       "      <td>https://i2-prod.dailystar.co.uk/incoming/artic...</td>\n",
       "      <td>dailystar</td>\n",
       "      <td>3076</td>\n",
       "      <td>[united kingdom]</td>\n",
       "      <td>[sports]</td>\n",
       "      <td>english</td>\n",
       "    </tr>\n",
       "    <tr>\n",
       "      <th>2</th>\n",
       "      <td>7e88dba2847f110d8285b743fb485044</td>\n",
       "      <td>Micah Richards and Daniel Sturridge burst into...</td>\n",
       "      <td>https://www.dailystar.co.uk/sport/football/mic...</td>\n",
       "      <td>[Football]</td>\n",
       "      <td>None</td>\n",
       "      <td>None</td>\n",
       "      <td>Sky Sports duo Micah Richards and Daniel Sturr...</td>\n",
       "      <td>Sky Sports pair and have been called 'box offi...</td>\n",
       "      <td>2023-11-12 18:06:30</td>\n",
       "      <td>https://i2-prod.dailystar.co.uk/incoming/artic...</td>\n",
       "      <td>dailystar</td>\n",
       "      <td>3076</td>\n",
       "      <td>[united kingdom]</td>\n",
       "      <td>[top]</td>\n",
       "      <td>english</td>\n",
       "    </tr>\n",
       "    <tr>\n",
       "      <th>3</th>\n",
       "      <td>406113a9bf227dc346e6fa3de9febdcc</td>\n",
       "      <td>ITV Big Brother’s Trish issues an apology afte...</td>\n",
       "      <td>https://www.manchestereveningnews.co.uk/news/t...</td>\n",
       "      <td>[TV]</td>\n",
       "      <td>[newsdesk@men-news.co.uk (Amelia Ward, Liv Cla...</td>\n",
       "      <td>None</td>\n",
       "      <td>Trish was evicted alongside Chanelle on Friday...</td>\n",
       "      <td>ITV Big Brother’s Trish has issued an apology ...</td>\n",
       "      <td>2023-11-12 17:31:10</td>\n",
       "      <td>https://i2-prod.manchestereveningnews.co.uk/in...</td>\n",
       "      <td>manchestereveningnews</td>\n",
       "      <td>6158</td>\n",
       "      <td>[united kingdom]</td>\n",
       "      <td>[top]</td>\n",
       "      <td>english</td>\n",
       "    </tr>\n",
       "    <tr>\n",
       "      <th>4</th>\n",
       "      <td>d721a5a4d01abb43a3a7db599d8ef3e8</td>\n",
       "      <td>​Benjamin Netanyahu tells NBC 'there could be'...</td>\n",
       "      <td>https://economictimes.indiatimes.com/news/inte...</td>\n",
       "      <td>None</td>\n",
       "      <td>None</td>\n",
       "      <td>None</td>\n",
       "      <td>​\"We heard that there was an impending deal of...</td>\n",
       "      <td>Synopsis ​\"We heard that there was an impendin...</td>\n",
       "      <td>2023-11-12 17:25:26</td>\n",
       "      <td>None</td>\n",
       "      <td>economictimes_indiatimes</td>\n",
       "      <td>376</td>\n",
       "      <td>[india]</td>\n",
       "      <td>[top]</td>\n",
       "      <td>english</td>\n",
       "    </tr>\n",
       "  </tbody>\n",
       "</table>\n",
       "</div>"
      ],
      "text/plain": [
       "                         article_id  \\\n",
       "0  41cd2f78b845a89e687f6955a68f54eb   \n",
       "1  b2dcdd4ce61ea746cfeec7b19790248c   \n",
       "2  7e88dba2847f110d8285b743fb485044   \n",
       "3  406113a9bf227dc346e6fa3de9febdcc   \n",
       "4  d721a5a4d01abb43a3a7db599d8ef3e8   \n",
       "\n",
       "                                               title  \\\n",
       "0  Olivia Attwood breaks her silence on rumours o...   \n",
       "1  Premier League fans hail 'guaranteed entertain...   \n",
       "2  Micah Richards and Daniel Sturridge burst into...   \n",
       "3  ITV Big Brother’s Trish issues an apology afte...   \n",
       "4  ​Benjamin Netanyahu tells NBC 'there could be'...   \n",
       "\n",
       "                                                link    keywords  \\\n",
       "0  https://www.dailymail.co.uk/tvshowbiz/article-...        None   \n",
       "1  https://www.dailystar.co.uk/sport/football/pre...     [Sport]   \n",
       "2  https://www.dailystar.co.uk/sport/football/mic...  [Football]   \n",
       "3  https://www.manchestereveningnews.co.uk/news/t...        [TV]   \n",
       "4  https://economictimes.indiatimes.com/news/inte...        None   \n",
       "\n",
       "                                             creator video_url  \\\n",
       "0                                               None      None   \n",
       "1                                               None      None   \n",
       "2                                               None      None   \n",
       "3  [newsdesk@men-news.co.uk (Amelia Ward, Liv Cla...      None   \n",
       "4                                               None      None   \n",
       "\n",
       "                                         description  \\\n",
       "0  Olivia Attwood has broken her silence on rumou...   \n",
       "1  Premier League fans have joked that it's guara...   \n",
       "2  Sky Sports duo Micah Richards and Daniel Sturr...   \n",
       "3  Trish was evicted alongside Chanelle on Friday...   \n",
       "4  ​\"We heard that there was an impending deal of...   \n",
       "\n",
       "                                             content              pubDate  \\\n",
       "0  Olivia Attwood breaks her silence on rumours o...  2023-11-12 18:57:34   \n",
       "1  The term \"Barclays\" has long-since risen above...  2023-11-12 18:34:03   \n",
       "2  Sky Sports pair and have been called 'box offi...  2023-11-12 18:06:30   \n",
       "3  ITV Big Brother’s Trish has issued an apology ...  2023-11-12 17:31:10   \n",
       "4  Synopsis ​\"We heard that there was an impendin...  2023-11-12 17:25:26   \n",
       "\n",
       "                                           image_url  \\\n",
       "0  https://i.dailymail.co.uk/1s/2023/11/12/18/777...   \n",
       "1  https://i2-prod.dailystar.co.uk/incoming/artic...   \n",
       "2  https://i2-prod.dailystar.co.uk/incoming/artic...   \n",
       "3  https://i2-prod.manchestereveningnews.co.uk/in...   \n",
       "4                                               None   \n",
       "\n",
       "                  source_id  source_priority           country  \\\n",
       "0               dailymailuk              135  [united kingdom]   \n",
       "1                 dailystar             3076  [united kingdom]   \n",
       "2                 dailystar             3076  [united kingdom]   \n",
       "3     manchestereveningnews             6158  [united kingdom]   \n",
       "4  economictimes_indiatimes              376           [india]   \n",
       "\n",
       "          category language  \n",
       "0  [entertainment]  english  \n",
       "1         [sports]  english  \n",
       "2            [top]  english  \n",
       "3            [top]  english  \n",
       "4            [top]  english  "
      ]
     },
     "execution_count": 37,
     "metadata": {},
     "output_type": "execute_result"
    }
   ],
   "source": [
    "# See the first 5 rows of the data structure\n",
    "df.head()"
   ]
  },
  {
   "cell_type": "code",
   "execution_count": 38,
   "id": "5bf1a87d",
   "metadata": {
    "ExecuteTime": {
     "end_time": "2023-11-12T20:17:42.144724Z",
     "start_time": "2023-11-12T20:17:42.131569Z"
    }
   },
   "outputs": [
    {
     "name": "stdout",
     "output_type": "stream",
     "text": [
      "<class 'pandas.core.frame.DataFrame'>\n",
      "RangeIndex: 10 entries, 0 to 9\n",
      "Data columns (total 15 columns):\n",
      " #   Column           Non-Null Count  Dtype \n",
      "---  ------           --------------  ----- \n",
      " 0   article_id       10 non-null     object\n",
      " 1   title            10 non-null     object\n",
      " 2   link             10 non-null     object\n",
      " 3   keywords         5 non-null      object\n",
      " 4   creator          2 non-null      object\n",
      " 5   video_url        0 non-null      object\n",
      " 6   description      10 non-null     object\n",
      " 7   content          10 non-null     object\n",
      " 8   pubDate          10 non-null     object\n",
      " 9   image_url        9 non-null      object\n",
      " 10  source_id        10 non-null     object\n",
      " 11  source_priority  10 non-null     int64 \n",
      " 12  country          10 non-null     object\n",
      " 13  category         10 non-null     object\n",
      " 14  language         10 non-null     object\n",
      "dtypes: int64(1), object(14)\n",
      "memory usage: 1.3+ KB\n"
     ]
    }
   ],
   "source": [
    "# Check the dataset information in details\n",
    "df.info()"
   ]
  },
  {
   "cell_type": "markdown",
   "id": "fd506b33",
   "metadata": {},
   "source": [
    "From dataframe information we have found 15 columns, 10 rows, 4 columns has null values, only on integer variable and others are object although its not reality."
   ]
  },
  {
   "cell_type": "code",
   "execution_count": 39,
   "id": "f66f9f3c",
   "metadata": {
    "ExecuteTime": {
     "end_time": "2023-11-12T20:17:42.151613Z",
     "start_time": "2023-11-12T20:17:42.146733Z"
    }
   },
   "outputs": [
    {
     "data": {
      "text/plain": [
       "article_id         object\n",
       "title              object\n",
       "link               object\n",
       "keywords           object\n",
       "creator            object\n",
       "video_url          object\n",
       "description        object\n",
       "content            object\n",
       "pubDate            object\n",
       "image_url          object\n",
       "source_id          object\n",
       "source_priority     int64\n",
       "country            object\n",
       "category           object\n",
       "language           object\n",
       "dtype: object"
      ]
     },
     "execution_count": 39,
     "metadata": {},
     "output_type": "execute_result"
    }
   ],
   "source": [
    "# See the data types of each variable\n",
    "df.dtypes"
   ]
  },
  {
   "cell_type": "code",
   "execution_count": 41,
   "id": "f0550b88",
   "metadata": {
    "ExecuteTime": {
     "end_time": "2023-11-12T20:23:50.946123Z",
     "start_time": "2023-11-12T20:23:50.937722Z"
    }
   },
   "outputs": [
    {
     "data": {
      "text/plain": [
       "Index(['article_id', 'title', 'link', 'keywords', 'creator', 'video_url',\n",
       "       'description', 'content', 'pubDate', 'image_url', 'source_id',\n",
       "       'source_priority', 'country', 'category', 'language'],\n",
       "      dtype='object')"
      ]
     },
     "execution_count": 41,
     "metadata": {},
     "output_type": "execute_result"
    }
   ],
   "source": [
    "# see the columns of the dataframe\n",
    "df.columns"
   ]
  },
  {
   "cell_type": "markdown",
   "id": "59b31055",
   "metadata": {},
   "source": [
    "As we have many columns and some of them are not relevant for our analysis. I will ignore those columns and make a new dataframe with other variable which will be good for our analysis. "
   ]
  },
  {
   "cell_type": "code",
   "execution_count": 48,
   "id": "838d520a",
   "metadata": {
    "ExecuteTime": {
     "end_time": "2023-11-12T20:32:04.713431Z",
     "start_time": "2023-11-12T20:32:04.697123Z"
    }
   },
   "outputs": [
    {
     "data": {
      "text/html": [
       "<div>\n",
       "<style scoped>\n",
       "    .dataframe tbody tr th:only-of-type {\n",
       "        vertical-align: middle;\n",
       "    }\n",
       "\n",
       "    .dataframe tbody tr th {\n",
       "        vertical-align: top;\n",
       "    }\n",
       "\n",
       "    .dataframe thead th {\n",
       "        text-align: right;\n",
       "    }\n",
       "</style>\n",
       "<table border=\"1\" class=\"dataframe\">\n",
       "  <thead>\n",
       "    <tr style=\"text-align: right;\">\n",
       "      <th></th>\n",
       "      <th>title</th>\n",
       "      <th>creator</th>\n",
       "      <th>pubDate</th>\n",
       "      <th>source_id</th>\n",
       "      <th>source_priority</th>\n",
       "      <th>country</th>\n",
       "      <th>category</th>\n",
       "      <th>language</th>\n",
       "    </tr>\n",
       "  </thead>\n",
       "  <tbody>\n",
       "    <tr>\n",
       "      <th>0</th>\n",
       "      <td>Olivia Attwood breaks her silence on rumours o...</td>\n",
       "      <td>None</td>\n",
       "      <td>2023-11-12 18:57:34</td>\n",
       "      <td>dailymailuk</td>\n",
       "      <td>135</td>\n",
       "      <td>[united kingdom]</td>\n",
       "      <td>[entertainment]</td>\n",
       "      <td>english</td>\n",
       "    </tr>\n",
       "    <tr>\n",
       "      <th>1</th>\n",
       "      <td>Premier League fans hail 'guaranteed entertain...</td>\n",
       "      <td>None</td>\n",
       "      <td>2023-11-12 18:34:03</td>\n",
       "      <td>dailystar</td>\n",
       "      <td>3076</td>\n",
       "      <td>[united kingdom]</td>\n",
       "      <td>[sports]</td>\n",
       "      <td>english</td>\n",
       "    </tr>\n",
       "    <tr>\n",
       "      <th>2</th>\n",
       "      <td>Micah Richards and Daniel Sturridge burst into...</td>\n",
       "      <td>None</td>\n",
       "      <td>2023-11-12 18:06:30</td>\n",
       "      <td>dailystar</td>\n",
       "      <td>3076</td>\n",
       "      <td>[united kingdom]</td>\n",
       "      <td>[top]</td>\n",
       "      <td>english</td>\n",
       "    </tr>\n",
       "    <tr>\n",
       "      <th>3</th>\n",
       "      <td>ITV Big Brother’s Trish issues an apology afte...</td>\n",
       "      <td>[newsdesk@men-news.co.uk (Amelia Ward, Liv Cla...</td>\n",
       "      <td>2023-11-12 17:31:10</td>\n",
       "      <td>manchestereveningnews</td>\n",
       "      <td>6158</td>\n",
       "      <td>[united kingdom]</td>\n",
       "      <td>[top]</td>\n",
       "      <td>english</td>\n",
       "    </tr>\n",
       "    <tr>\n",
       "      <th>4</th>\n",
       "      <td>​Benjamin Netanyahu tells NBC 'there could be'...</td>\n",
       "      <td>None</td>\n",
       "      <td>2023-11-12 17:25:26</td>\n",
       "      <td>economictimes_indiatimes</td>\n",
       "      <td>376</td>\n",
       "      <td>[india]</td>\n",
       "      <td>[top]</td>\n",
       "      <td>english</td>\n",
       "    </tr>\n",
       "  </tbody>\n",
       "</table>\n",
       "</div>"
      ],
      "text/plain": [
       "                                               title  \\\n",
       "0  Olivia Attwood breaks her silence on rumours o...   \n",
       "1  Premier League fans hail 'guaranteed entertain...   \n",
       "2  Micah Richards and Daniel Sturridge burst into...   \n",
       "3  ITV Big Brother’s Trish issues an apology afte...   \n",
       "4  ​Benjamin Netanyahu tells NBC 'there could be'...   \n",
       "\n",
       "                                             creator              pubDate  \\\n",
       "0                                               None  2023-11-12 18:57:34   \n",
       "1                                               None  2023-11-12 18:34:03   \n",
       "2                                               None  2023-11-12 18:06:30   \n",
       "3  [newsdesk@men-news.co.uk (Amelia Ward, Liv Cla...  2023-11-12 17:31:10   \n",
       "4                                               None  2023-11-12 17:25:26   \n",
       "\n",
       "                  source_id  source_priority           country  \\\n",
       "0               dailymailuk              135  [united kingdom]   \n",
       "1                 dailystar             3076  [united kingdom]   \n",
       "2                 dailystar             3076  [united kingdom]   \n",
       "3     manchestereveningnews             6158  [united kingdom]   \n",
       "4  economictimes_indiatimes              376           [india]   \n",
       "\n",
       "          category language  \n",
       "0  [entertainment]  english  \n",
       "1         [sports]  english  \n",
       "2            [top]  english  \n",
       "3            [top]  english  \n",
       "4            [top]  english  "
      ]
     },
     "execution_count": 48,
     "metadata": {},
     "output_type": "execute_result"
    }
   ],
   "source": [
    "# Select the columns in a list which we will use \n",
    "selected_columns = ['title', 'creator', 'pubDate', 'source_id',\n",
    "       'source_priority', 'country', 'category', 'language']\n",
    "\n",
    "# Create a new dataframe name cleaned dataframe with thos new varibales selected\n",
    "cleaned_df = df[selected_columns]\n",
    "\n",
    "# Show the first five rows of newly created dataframe\n",
    "cleaned_df.head()"
   ]
  },
  {
   "cell_type": "code",
   "execution_count": 67,
   "id": "c9ed715a",
   "metadata": {
    "ExecuteTime": {
     "end_time": "2023-11-12T21:09:29.202489Z",
     "start_time": "2023-11-12T21:09:29.198167Z"
    }
   },
   "outputs": [],
   "source": [
    "# import libraries for visualization \n",
    "import matplotlib.pyplot as plt\n",
    "import seaborn as sns\n",
    "import warnings\n",
    "# Use the filterwarnings function to ignore warnings\n",
    "warnings.filterwarnings(\"ignore\")"
   ]
  },
  {
   "cell_type": "code",
   "execution_count": 76,
   "id": "c5514f0f",
   "metadata": {
    "ExecuteTime": {
     "end_time": "2023-11-12T21:16:52.760127Z",
     "start_time": "2023-11-12T21:16:52.410180Z"
    }
   },
   "outputs": [
    {
     "data": {
      "image/png": "[encoded data removed]",
      "text/plain": [
       "<Figure size 1000x400 with 1 Axes>"
      ]
     },
     "metadata": {},
     "output_type": "display_data"
    }
   ],
   "source": [
    "# Create a bar chart for source priority distribution\n",
    "sns.set(style=\"whitegrid\")\n",
    "plt.figure(figsize=(10, 4))\n",
    "sns.barplot(x=\"source_priority\", y=\"source_id\", data=cleaned_df)\n",
    "plt.title(\"Source Priority Distribution\")\n",
    "plt.xlabel(\"Source Priority\")\n",
    "plt.ylabel(\"Source ID\")\n",
    "plt.show();\n"
   ]
  },
  {
   "cell_type": "markdown",
   "id": "ebc58941",
   "metadata": {},
   "source": [
    "Belfast live is the highest number of source_priority. Its very high compare to others source_ID."
   ]
  },
  {
   "cell_type": "code",
   "execution_count": 69,
   "id": "ff81ac4b",
   "metadata": {
    "ExecuteTime": {
     "end_time": "2023-11-12T21:10:47.640865Z",
     "start_time": "2023-11-12T21:10:47.219940Z"
    }
   },
   "outputs": [
    {
     "data": {
      "image/png": "[encoded data removed]",
      "text/plain": [
       "<Figure size 1200x600 with 1 Axes>"
      ]
     },
     "metadata": {},
     "output_type": "display_data"
    }
   ],
   "source": [
    "# Create a Time series line chart for publication date\n",
    "\n",
    "# Convert the data type \n",
    "cleaned_df['pubDate'] = pd.to_datetime(cleaned_df['pubDate'])\n",
    "\n",
    "plt.figure(figsize=(12, 6))\n",
    "plt.plot(cleaned_df['pubDate'], cleaned_df['source_id'], marker='o')\n",
    "plt.title(\"Publication Date Trends\")\n",
    "plt.xlabel(\"Publication Date\")\n",
    "plt.ylabel(\"Source ID\")\n",
    "plt.show();\n"
   ]
  },
  {
   "cell_type": "markdown",
   "id": "1d418727",
   "metadata": {},
   "source": [
    "Most published in before 17.00. After 17.00 gradually decrease the number of news publish. "
   ]
  },
  {
   "cell_type": "code",
   "execution_count": 71,
   "id": "793e51ff",
   "metadata": {
    "ExecuteTime": {
     "end_time": "2023-11-12T21:12:35.428098Z",
     "start_time": "2023-11-12T21:12:35.421511Z"
    }
   },
   "outputs": [],
   "source": [
    "# Convert lists to strings and remove square brackets\n",
    "cleaned_df['country'] = cleaned_df['country'].astype(str).str.strip('[]')"
   ]
  },
  {
   "cell_type": "code",
   "execution_count": 72,
   "id": "d4ade494",
   "metadata": {
    "ExecuteTime": {
     "end_time": "2023-11-12T21:12:54.720196Z",
     "start_time": "2023-11-12T21:12:54.561522Z"
    }
   },
   "outputs": [
    {
     "data": {
      "image/png": "[encoded data removed]",
      "text/plain": [
       "<Figure size 1200x600 with 1 Axes>"
      ]
     },
     "metadata": {},
     "output_type": "display_data"
    }
   ],
   "source": [
    "# Show a Countplot for countries distribution\n",
    "plt.figure(figsize=(12, 6))\n",
    "sns.countplot(x=\"country\", data=cleaned_df)\n",
    "plt.title(\"Distribution of Data by Country\")\n",
    "plt.xlabel(\"Country\")\n",
    "plt.ylabel(\"Count\")\n",
    "plt.show();\n"
   ]
  },
  {
   "cell_type": "markdown",
   "id": "9469a2be",
   "metadata": {},
   "source": [
    "Among the countries United Kingdom was the highest news count in a certain period of time than other country like India."
   ]
  },
  {
   "cell_type": "code",
   "execution_count": 73,
   "id": "5424be24",
   "metadata": {
    "ExecuteTime": {
     "end_time": "2023-11-12T21:15:15.870466Z",
     "start_time": "2023-11-12T21:15:15.863862Z"
    }
   },
   "outputs": [],
   "source": [
    "# Convert lists to strings and remove square brackets\n",
    "cleaned_df['category'] = cleaned_df['category'].astype(str).str.strip('[]')"
   ]
  },
  {
   "cell_type": "code",
   "execution_count": 74,
   "id": "71b5ac4f",
   "metadata": {
    "ExecuteTime": {
     "end_time": "2023-11-12T21:15:22.169989Z",
     "start_time": "2023-11-12T21:15:21.932829Z"
    }
   },
   "outputs": [
    {
     "data": {
      "image/png": "[encoded data removed]",
      "text/plain": [
       "<Figure size 800x400 with 1 Axes>"
      ]
     },
     "metadata": {},
     "output_type": "display_data"
    }
   ],
   "source": [
    "# Horizontal bar chart for categories\n",
    "plt.figure(figsize=(8, 4))\n",
    "sns.countplot(y=\"category\", data=cleaned_df, order=cleaned_df['category'].value_counts().index)\n",
    "plt.title(\"Article Distribution Across Categories\")\n",
    "plt.xlabel(\"Count\")\n",
    "plt.ylabel(\"Category\")\n",
    "plt.show();\n"
   ]
  },
  {
   "cell_type": "markdown",
   "id": "16c702cc",
   "metadata": {},
   "source": [
    "Based on categories, Sports cover most of the news than entertainment."
   ]
  },
  {
   "cell_type": "markdown",
   "id": "3eaa6ff8",
   "metadata": {
    "id": "9369a2b3"
   },
   "source": [
    "# Summary: \n",
    "This is one more great project assigned by Professor James Topor. Its challenging but interesting to learn new skills in my career. It was fun to learn text data analysis, extraction from web through API, python beautiful soup library, request library. During this project I faced difficulties in text extraction, regex specially for data cleaning. \n",
    "I am so grateful to my professor to give that opportunity to develop my skills though this task. \n",
    "I enjoyed and expect more from him in future more project. \n",
    "In web api part news dataset, i have shown some visualization which make sens to the audience about the news spread area like sports, entertainment, language, country, category. From that basic analysis we have found some insights visually. \n",
    "\n"
   ]
  },
  {
   "cell_type": "code",
   "execution_count": null,
   "id": "93e6911f",
   "metadata": {},
   "outputs": [],
   "source": []
  }
 ],
 "metadata": {
  "colab": {
   "provenance": []
  },
  "kernelspec": {
   "display_name": "Python 3 (ipykernel)",
   "language": "python",
   "name": "python3"
  },
  "language_info": {
   "codemirror_mode": {
    "name": "ipython",
    "version": 3
   },
   "file_extension": ".py",
   "mimetype": "text/x-python",
   "name": "python",
   "nbconvert_exporter": "python",
   "pygments_lexer": "ipython3",
   "version": "3.11.4"
  },
  "varInspector": {
   "cols": {
    "lenName": 16,
    "lenType": 16,
    "lenVar": 40
   },
   "kernels_config": {
    "python": {
     "delete_cmd_postfix": "",
     "delete_cmd_prefix": "del ",
     "library": "var_list.py",
     "varRefreshCmd": "print(var_dic_list())"
    },
    "r": {
     "delete_cmd_postfix": ") ",
     "delete_cmd_prefix": "rm(",
     "library": "var_list.r",
     "varRefreshCmd": "cat(var_dic_list()) "
    }
   },
   "types_to_exclude": [
    "module",
    "function",
    "builtin_function_or_method",
    "instance",
    "_Feature"
   ],
   "window_display": false
  }
 },
 "nbformat": 4,
 "nbformat_minor": 5
}
